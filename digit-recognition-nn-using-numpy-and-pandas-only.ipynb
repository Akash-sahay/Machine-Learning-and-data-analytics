{
 "cells": [
  {
   "cell_type": "code",
   "execution_count": 1,
   "id": "5d0e4c52",
   "metadata": {
    "_cell_guid": "b1076dfc-b9ad-4769-8c92-a6c4dae69d19",
    "_uuid": "8f2839f25d086af736a60e9eeb907d3b93b6e0e5",
    "execution": {
     "iopub.execute_input": "2023-07-01T07:26:14.946564Z",
     "iopub.status.busy": "2023-07-01T07:26:14.946238Z",
     "iopub.status.idle": "2023-07-01T07:26:14.956780Z",
     "shell.execute_reply": "2023-07-01T07:26:14.955953Z"
    },
    "papermill": {
     "duration": 0.01782,
     "end_time": "2023-07-01T07:26:14.958473",
     "exception": false,
     "start_time": "2023-07-01T07:26:14.940653",
     "status": "completed"
    },
    "tags": []
   },
   "outputs": [
    {
     "name": "stdout",
     "output_type": "stream",
     "text": [
      "/kaggle/input/digit-recognizer/sample_submission.csv\n",
      "/kaggle/input/digit-recognizer/train.csv\n",
      "/kaggle/input/digit-recognizer/test.csv\n"
     ]
    }
   ],
   "source": [
    "# This Python 3 environment comes with many helpful analytics libraries installed\n",
    "# It is defined by the kaggle/python Docker image: https://github.com/kaggle/docker-python\n",
    "# For example, here's several helpful packages to load\n",
    "\n",
    "import numpy as np # linear algebra\n",
    "import pandas as pd # data processing, CSV file I/O (e.g. pd.read_csv)\n",
    "import matplotlib.pyplot as plt\n",
    "# Input data files are available in the read-only \"../input/\" directory\n",
    "# For example, running this (by clicking run or pressing Shift+Enter) will list all files under the input directory\n",
    "\n",
    "import os\n",
    "for dirname, _, filenames in os.walk('/kaggle/input'):\n",
    "    for filename in filenames:\n",
    "        print(os.path.join(dirname, filename))\n",
    "\n",
    "# You can write up to 20GB to the current directory (/kaggle/working/) that gets preserved as output when you create a version using \"Save & Run All\" \n",
    "# You can also write temporary files to /kaggle/temp/, but they won't be saved outside of the current session"
   ]
  },
  {
   "cell_type": "code",
   "execution_count": 2,
   "id": "e5971b80",
   "metadata": {
    "execution": {
     "iopub.execute_input": "2023-07-01T07:26:14.966304Z",
     "iopub.status.busy": "2023-07-01T07:26:14.966069Z",
     "iopub.status.idle": "2023-07-01T07:26:17.505972Z",
     "shell.execute_reply": "2023-07-01T07:26:17.505100Z"
    },
    "papermill": {
     "duration": 2.545581,
     "end_time": "2023-07-01T07:26:17.507656",
     "exception": false,
     "start_time": "2023-07-01T07:26:14.962075",
     "status": "completed"
    },
    "tags": []
   },
   "outputs": [
    {
     "data": {
      "text/html": [
       "<div>\n",
       "<style scoped>\n",
       "    .dataframe tbody tr th:only-of-type {\n",
       "        vertical-align: middle;\n",
       "    }\n",
       "\n",
       "    .dataframe tbody tr th {\n",
       "        vertical-align: top;\n",
       "    }\n",
       "\n",
       "    .dataframe thead th {\n",
       "        text-align: right;\n",
       "    }\n",
       "</style>\n",
       "<table border=\"1\" class=\"dataframe\">\n",
       "  <thead>\n",
       "    <tr style=\"text-align: right;\">\n",
       "      <th></th>\n",
       "      <th>label</th>\n",
       "      <th>pixel0</th>\n",
       "      <th>pixel1</th>\n",
       "      <th>pixel2</th>\n",
       "      <th>pixel3</th>\n",
       "      <th>pixel4</th>\n",
       "      <th>pixel5</th>\n",
       "      <th>pixel6</th>\n",
       "      <th>pixel7</th>\n",
       "      <th>pixel8</th>\n",
       "      <th>...</th>\n",
       "      <th>pixel774</th>\n",
       "      <th>pixel775</th>\n",
       "      <th>pixel776</th>\n",
       "      <th>pixel777</th>\n",
       "      <th>pixel778</th>\n",
       "      <th>pixel779</th>\n",
       "      <th>pixel780</th>\n",
       "      <th>pixel781</th>\n",
       "      <th>pixel782</th>\n",
       "      <th>pixel783</th>\n",
       "    </tr>\n",
       "  </thead>\n",
       "  <tbody>\n",
       "    <tr>\n",
       "      <th>0</th>\n",
       "      <td>1</td>\n",
       "      <td>0</td>\n",
       "      <td>0</td>\n",
       "      <td>0</td>\n",
       "      <td>0</td>\n",
       "      <td>0</td>\n",
       "      <td>0</td>\n",
       "      <td>0</td>\n",
       "      <td>0</td>\n",
       "      <td>0</td>\n",
       "      <td>...</td>\n",
       "      <td>0</td>\n",
       "      <td>0</td>\n",
       "      <td>0</td>\n",
       "      <td>0</td>\n",
       "      <td>0</td>\n",
       "      <td>0</td>\n",
       "      <td>0</td>\n",
       "      <td>0</td>\n",
       "      <td>0</td>\n",
       "      <td>0</td>\n",
       "    </tr>\n",
       "    <tr>\n",
       "      <th>1</th>\n",
       "      <td>0</td>\n",
       "      <td>0</td>\n",
       "      <td>0</td>\n",
       "      <td>0</td>\n",
       "      <td>0</td>\n",
       "      <td>0</td>\n",
       "      <td>0</td>\n",
       "      <td>0</td>\n",
       "      <td>0</td>\n",
       "      <td>0</td>\n",
       "      <td>...</td>\n",
       "      <td>0</td>\n",
       "      <td>0</td>\n",
       "      <td>0</td>\n",
       "      <td>0</td>\n",
       "      <td>0</td>\n",
       "      <td>0</td>\n",
       "      <td>0</td>\n",
       "      <td>0</td>\n",
       "      <td>0</td>\n",
       "      <td>0</td>\n",
       "    </tr>\n",
       "    <tr>\n",
       "      <th>2</th>\n",
       "      <td>1</td>\n",
       "      <td>0</td>\n",
       "      <td>0</td>\n",
       "      <td>0</td>\n",
       "      <td>0</td>\n",
       "      <td>0</td>\n",
       "      <td>0</td>\n",
       "      <td>0</td>\n",
       "      <td>0</td>\n",
       "      <td>0</td>\n",
       "      <td>...</td>\n",
       "      <td>0</td>\n",
       "      <td>0</td>\n",
       "      <td>0</td>\n",
       "      <td>0</td>\n",
       "      <td>0</td>\n",
       "      <td>0</td>\n",
       "      <td>0</td>\n",
       "      <td>0</td>\n",
       "      <td>0</td>\n",
       "      <td>0</td>\n",
       "    </tr>\n",
       "    <tr>\n",
       "      <th>3</th>\n",
       "      <td>4</td>\n",
       "      <td>0</td>\n",
       "      <td>0</td>\n",
       "      <td>0</td>\n",
       "      <td>0</td>\n",
       "      <td>0</td>\n",
       "      <td>0</td>\n",
       "      <td>0</td>\n",
       "      <td>0</td>\n",
       "      <td>0</td>\n",
       "      <td>...</td>\n",
       "      <td>0</td>\n",
       "      <td>0</td>\n",
       "      <td>0</td>\n",
       "      <td>0</td>\n",
       "      <td>0</td>\n",
       "      <td>0</td>\n",
       "      <td>0</td>\n",
       "      <td>0</td>\n",
       "      <td>0</td>\n",
       "      <td>0</td>\n",
       "    </tr>\n",
       "    <tr>\n",
       "      <th>4</th>\n",
       "      <td>0</td>\n",
       "      <td>0</td>\n",
       "      <td>0</td>\n",
       "      <td>0</td>\n",
       "      <td>0</td>\n",
       "      <td>0</td>\n",
       "      <td>0</td>\n",
       "      <td>0</td>\n",
       "      <td>0</td>\n",
       "      <td>0</td>\n",
       "      <td>...</td>\n",
       "      <td>0</td>\n",
       "      <td>0</td>\n",
       "      <td>0</td>\n",
       "      <td>0</td>\n",
       "      <td>0</td>\n",
       "      <td>0</td>\n",
       "      <td>0</td>\n",
       "      <td>0</td>\n",
       "      <td>0</td>\n",
       "      <td>0</td>\n",
       "    </tr>\n",
       "  </tbody>\n",
       "</table>\n",
       "<p>5 rows × 785 columns</p>\n",
       "</div>"
      ],
      "text/plain": [
       "   label  pixel0  pixel1  pixel2  pixel3  pixel4  pixel5  pixel6  pixel7  \\\n",
       "0      1       0       0       0       0       0       0       0       0   \n",
       "1      0       0       0       0       0       0       0       0       0   \n",
       "2      1       0       0       0       0       0       0       0       0   \n",
       "3      4       0       0       0       0       0       0       0       0   \n",
       "4      0       0       0       0       0       0       0       0       0   \n",
       "\n",
       "   pixel8  ...  pixel774  pixel775  pixel776  pixel777  pixel778  pixel779  \\\n",
       "0       0  ...         0         0         0         0         0         0   \n",
       "1       0  ...         0         0         0         0         0         0   \n",
       "2       0  ...         0         0         0         0         0         0   \n",
       "3       0  ...         0         0         0         0         0         0   \n",
       "4       0  ...         0         0         0         0         0         0   \n",
       "\n",
       "   pixel780  pixel781  pixel782  pixel783  \n",
       "0         0         0         0         0  \n",
       "1         0         0         0         0  \n",
       "2         0         0         0         0  \n",
       "3         0         0         0         0  \n",
       "4         0         0         0         0  \n",
       "\n",
       "[5 rows x 785 columns]"
      ]
     },
     "execution_count": 2,
     "metadata": {},
     "output_type": "execute_result"
    }
   ],
   "source": [
    "data = pd.read_csv('/kaggle/input/digit-recognizer/train.csv')\n",
    "data.head()"
   ]
  },
  {
   "cell_type": "code",
   "execution_count": 3,
   "id": "757f9f61",
   "metadata": {
    "execution": {
     "iopub.execute_input": "2023-07-01T07:26:17.516246Z",
     "iopub.status.busy": "2023-07-01T07:26:17.515975Z",
     "iopub.status.idle": "2023-07-01T07:26:17.568643Z",
     "shell.execute_reply": "2023-07-01T07:26:17.567760Z"
    },
    "papermill": {
     "duration": 0.059014,
     "end_time": "2023-07-01T07:26:17.570532",
     "exception": false,
     "start_time": "2023-07-01T07:26:17.511518",
     "status": "completed"
    },
    "tags": []
   },
   "outputs": [
    {
     "data": {
      "text/plain": [
       "array([[1, 0, 0, ..., 0, 0, 0],\n",
       "       [0, 0, 0, ..., 0, 0, 0],\n",
       "       [1, 0, 0, ..., 0, 0, 0],\n",
       "       ...,\n",
       "       [7, 0, 0, ..., 0, 0, 0],\n",
       "       [6, 0, 0, ..., 0, 0, 0],\n",
       "       [9, 0, 0, ..., 0, 0, 0]])"
      ]
     },
     "execution_count": 3,
     "metadata": {},
     "output_type": "execute_result"
    }
   ],
   "source": [
    "data = np.array(data)\n",
    "data"
   ]
  },
  {
   "cell_type": "code",
   "execution_count": 4,
   "id": "efc84116",
   "metadata": {
    "execution": {
     "iopub.execute_input": "2023-07-01T07:26:17.579333Z",
     "iopub.status.busy": "2023-07-01T07:26:17.579033Z",
     "iopub.status.idle": "2023-07-01T07:26:17.994363Z",
     "shell.execute_reply": "2023-07-01T07:26:17.993350Z"
    },
    "papermill": {
     "duration": 0.422103,
     "end_time": "2023-07-01T07:26:17.996491",
     "exception": false,
     "start_time": "2023-07-01T07:26:17.574388",
     "status": "completed"
    },
    "tags": []
   },
   "outputs": [],
   "source": [
    "data = np.array(data)\n",
    "m, n = data.shape\n",
    "np.random.shuffle(data) # shuffle before splitting into dev and training sets\n",
    "\n",
    "data_dev = data[0:1000].T\n",
    "Y_dev = data_dev[0]\n",
    "X_dev = data_dev[1:n]\n",
    "X_dev = X_dev / 255.\n",
    "\n",
    "data_train = data[1000:m].T\n",
    "Y_train = data_train[0]\n",
    "X_train = data_train[1:n]\n",
    "X_train = X_train / 255.\n",
    "_,m_train = X_train.shape"
   ]
  },
  {
   "cell_type": "code",
   "execution_count": 5,
   "id": "7e6b8ac7",
   "metadata": {
    "execution": {
     "iopub.execute_input": "2023-07-01T07:26:18.005003Z",
     "iopub.status.busy": "2023-07-01T07:26:18.004744Z",
     "iopub.status.idle": "2023-07-01T07:26:18.011717Z",
     "shell.execute_reply": "2023-07-01T07:26:18.010733Z"
    },
    "papermill": {
     "duration": 0.013836,
     "end_time": "2023-07-01T07:26:18.014093",
     "exception": false,
     "start_time": "2023-07-01T07:26:18.000257",
     "status": "completed"
    },
    "tags": []
   },
   "outputs": [
    {
     "data": {
      "text/plain": [
       "(784, 1000)"
      ]
     },
     "execution_count": 5,
     "metadata": {},
     "output_type": "execute_result"
    }
   ],
   "source": [
    "X_dev.shape"
   ]
  },
  {
   "cell_type": "code",
   "execution_count": 6,
   "id": "6404237f",
   "metadata": {
    "execution": {
     "iopub.execute_input": "2023-07-01T07:26:18.023502Z",
     "iopub.status.busy": "2023-07-01T07:26:18.023175Z",
     "iopub.status.idle": "2023-07-01T07:26:18.037962Z",
     "shell.execute_reply": "2023-07-01T07:26:18.036987Z"
    },
    "papermill": {
     "duration": 0.021788,
     "end_time": "2023-07-01T07:26:18.040006",
     "exception": false,
     "start_time": "2023-07-01T07:26:18.018218",
     "status": "completed"
    },
    "tags": []
   },
   "outputs": [],
   "source": [
    "def init_params():\n",
    "    W1 = np.random.rand(10, 784) - 0.5\n",
    "    b1 = np.random.rand(10, 1) - 0.5\n",
    "    W2 = np.random.rand(10, 10) - 0.5\n",
    "    b2 = np.random.rand(10, 1) - 0.5\n",
    "    return W1, b1, W2, b2\n",
    "def ReLU(Z):\n",
    "    return np.maximum(Z, 0)\n",
    "def softmax(Z):\n",
    "    A = np.exp(Z) / sum(np.exp(Z))\n",
    "    return A\n",
    "\n",
    "def forward_prop(W1, b1, W2, b2, X):\n",
    "    Z1 = W1.dot(X) + b1\n",
    "    A1 = ReLU(Z1)\n",
    "    Z2 = W2.dot(A1) + b2\n",
    "    A2 = softmax(Z2)\n",
    "    return Z1, A1, Z2, A2\n",
    "def one_hot(Y):\n",
    "    one_hot_Y = np.zeros((Y.size, Y.max() + 1))\n",
    "    one_hot_Y[np.arange(Y.size), Y] = 1\n",
    "    one_hot_Y = one_hot_Y.T\n",
    "    return one_hot_Y\n",
    "def ReLU_deriv(Z):\n",
    "    return Z > 0\n",
    "    \n",
    "def backward_prop(Z1, A1, Z2, A2, W1, W2, X, Y):\n",
    "    one_hot_Y = one_hot(Y)\n",
    "    dZ2 = A2 - one_hot_Y\n",
    "    dW2 = 1 / m * dZ2.dot(A1.T)\n",
    "    db2 = 1 / m * np.sum(dZ2)\n",
    "    dZ1 = W2.T.dot(dZ2) * ReLU_deriv(Z1)\n",
    "    dW1 = 1 / m * dZ1.dot(X.T)\n",
    "    db1 = 1 / m * np.sum(dZ1)\n",
    "    return dW1, db1, dW2, db2\n",
    "def update_params(W1, b1, W2, b2, dW1, db1, dW2, db2, alpha):\n",
    "    W1 = W1 - alpha * dW1\n",
    "    b1 = b1 - alpha * db1    \n",
    "    W2 = W2 - alpha * dW2  \n",
    "    b2 = b2 - alpha * db2    \n",
    "    return W1, b1, W2, b2\n",
    "def get_predictions(A2):\n",
    "    return np.argmax(A2, 0)\n",
    "def get_accuracy(predictions, Y):\n",
    "    print(predictions, Y)\n",
    "    return np.sum(predictions == Y) / Y.size\n",
    "def gradient_descent(X, Y, alpha, iterations):\n",
    "    W1, b1, W2, b2 = init_params()\n",
    "    for i in range(iterations):\n",
    "        Z1, A1, Z2, A2 = forward_prop(W1, b1, W2, b2, X)\n",
    "        dW1, db1, dW2, db2 = backward_prop(Z1, A1, Z2, A2, W1, W2, X, Y)\n",
    "        W1, b1, W2, b2 = update_params(W1, b1, W2, b2, dW1, db1, dW2, db2, alpha)\n",
    "        if i % 10 == 0:\n",
    "            print(\"Iteration: \", i)\n",
    "            predictions = get_predictions(A2)\n",
    "            print(get_accuracy(predictions, Y))\n",
    "    return W1, b1, W2, b2\n"
   ]
  },
  {
   "cell_type": "code",
   "execution_count": 7,
   "id": "0473fbdb",
   "metadata": {
    "execution": {
     "iopub.execute_input": "2023-07-01T07:26:18.050537Z",
     "iopub.status.busy": "2023-07-01T07:26:18.050229Z",
     "iopub.status.idle": "2023-07-01T07:26:51.261529Z",
     "shell.execute_reply": "2023-07-01T07:26:51.260766Z"
    },
    "papermill": {
     "duration": 33.219893,
     "end_time": "2023-07-01T07:26:51.263968",
     "exception": false,
     "start_time": "2023-07-01T07:26:18.044075",
     "status": "completed"
    },
    "tags": []
   },
   "outputs": [
    {
     "name": "stdout",
     "output_type": "stream",
     "text": [
      "Iteration:  0\n",
      "[8 2 2 ... 8 3 2] [6 8 8 ... 6 9 3]\n",
      "0.08892682926829268\n",
      "Iteration:  10\n",
      "[3 4 2 ... 6 3 3] [6 8 8 ... 6 9 3]\n",
      "0.13795121951219513\n",
      "Iteration:  20\n",
      "[3 2 3 ... 6 3 3] [6 8 8 ... 6 9 3]\n",
      "0.22163414634146342\n",
      "Iteration:  30\n",
      "[3 2 3 ... 6 3 3] [6 8 8 ... 6 9 3]\n",
      "0.27514634146341466\n",
      "Iteration:  40\n",
      "[5 2 3 ... 6 3 3] [6 8 8 ... 6 9 3]\n",
      "0.33795121951219514\n",
      "Iteration:  50\n",
      "[5 2 3 ... 6 3 3] [6 8 8 ... 6 9 3]\n",
      "0.3843170731707317\n",
      "Iteration:  60\n",
      "[5 2 3 ... 6 3 3] [6 8 8 ... 6 9 3]\n",
      "0.4232439024390244\n",
      "Iteration:  70\n",
      "[5 2 3 ... 6 3 3] [6 8 8 ... 6 9 3]\n",
      "0.45863414634146343\n",
      "Iteration:  80\n",
      "[5 2 3 ... 6 3 3] [6 8 8 ... 6 9 3]\n",
      "0.49\n",
      "Iteration:  90\n",
      "[5 8 3 ... 6 4 3] [6 8 8 ... 6 9 3]\n",
      "0.5206829268292683\n",
      "Iteration:  100\n",
      "[5 8 3 ... 6 4 3] [6 8 8 ... 6 9 3]\n",
      "0.5484878048780488\n",
      "Iteration:  110\n",
      "[3 8 3 ... 6 4 3] [6 8 8 ... 6 9 3]\n",
      "0.5760243902439024\n",
      "Iteration:  120\n",
      "[3 8 3 ... 6 4 3] [6 8 8 ... 6 9 3]\n",
      "0.6001219512195122\n",
      "Iteration:  130\n",
      "[3 8 8 ... 6 4 3] [6 8 8 ... 6 9 3]\n",
      "0.6234390243902439\n",
      "Iteration:  140\n",
      "[3 8 8 ... 6 4 3] [6 8 8 ... 6 9 3]\n",
      "0.6428048780487805\n",
      "Iteration:  150\n",
      "[3 8 8 ... 6 4 3] [6 8 8 ... 6 9 3]\n",
      "0.6591951219512195\n",
      "Iteration:  160\n",
      "[3 8 8 ... 6 4 3] [6 8 8 ... 6 9 3]\n",
      "0.6744878048780488\n",
      "Iteration:  170\n",
      "[3 8 8 ... 6 4 3] [6 8 8 ... 6 9 3]\n",
      "0.6877560975609756\n",
      "Iteration:  180\n",
      "[3 8 8 ... 6 4 3] [6 8 8 ... 6 9 3]\n",
      "0.6997073170731707\n",
      "Iteration:  190\n",
      "[3 8 8 ... 6 4 3] [6 8 8 ... 6 9 3]\n",
      "0.7105365853658536\n",
      "Iteration:  200\n",
      "[3 8 8 ... 6 4 3] [6 8 8 ... 6 9 3]\n",
      "0.720390243902439\n",
      "Iteration:  210\n",
      "[3 8 8 ... 6 4 3] [6 8 8 ... 6 9 3]\n",
      "0.728390243902439\n",
      "Iteration:  220\n",
      "[3 8 8 ... 6 4 3] [6 8 8 ... 6 9 3]\n",
      "0.7351707317073171\n",
      "Iteration:  230\n",
      "[3 8 8 ... 6 4 3] [6 8 8 ... 6 9 3]\n",
      "0.7423414634146341\n",
      "Iteration:  240\n",
      "[3 8 8 ... 6 4 3] [6 8 8 ... 6 9 3]\n",
      "0.7485121951219512\n",
      "Iteration:  250\n",
      "[3 8 8 ... 6 4 3] [6 8 8 ... 6 9 3]\n",
      "0.754780487804878\n",
      "Iteration:  260\n",
      "[3 8 8 ... 6 4 3] [6 8 8 ... 6 9 3]\n",
      "0.7602926829268293\n",
      "Iteration:  270\n",
      "[3 8 8 ... 6 4 3] [6 8 8 ... 6 9 3]\n",
      "0.7658536585365854\n",
      "Iteration:  280\n",
      "[6 8 8 ... 6 4 3] [6 8 8 ... 6 9 3]\n",
      "0.7711219512195122\n",
      "Iteration:  290\n",
      "[6 8 8 ... 6 4 3] [6 8 8 ... 6 9 3]\n",
      "0.7760731707317073\n",
      "Iteration:  300\n",
      "[6 8 8 ... 6 4 3] [6 8 8 ... 6 9 3]\n",
      "0.7807073170731708\n",
      "Iteration:  310\n",
      "[6 8 8 ... 6 4 3] [6 8 8 ... 6 9 3]\n",
      "0.785\n",
      "Iteration:  320\n",
      "[6 8 8 ... 6 4 3] [6 8 8 ... 6 9 3]\n",
      "0.7888536585365854\n",
      "Iteration:  330\n",
      "[6 8 8 ... 6 4 3] [6 8 8 ... 6 9 3]\n",
      "0.7924390243902439\n",
      "Iteration:  340\n",
      "[6 8 8 ... 6 4 3] [6 8 8 ... 6 9 3]\n",
      "0.7959512195121952\n",
      "Iteration:  350\n",
      "[6 8 8 ... 6 4 3] [6 8 8 ... 6 9 3]\n",
      "0.799609756097561\n",
      "Iteration:  360\n",
      "[6 8 8 ... 6 4 3] [6 8 8 ... 6 9 3]\n",
      "0.8029512195121952\n",
      "Iteration:  370\n",
      "[6 8 8 ... 6 4 3] [6 8 8 ... 6 9 3]\n",
      "0.8056829268292683\n",
      "Iteration:  380\n",
      "[6 8 8 ... 6 4 3] [6 8 8 ... 6 9 3]\n",
      "0.8086585365853659\n",
      "Iteration:  390\n",
      "[6 8 8 ... 6 9 3] [6 8 8 ... 6 9 3]\n",
      "0.811439024390244\n",
      "Iteration:  400\n",
      "[6 8 8 ... 6 9 3] [6 8 8 ... 6 9 3]\n",
      "0.8138780487804878\n",
      "Iteration:  410\n",
      "[6 8 8 ... 6 9 3] [6 8 8 ... 6 9 3]\n",
      "0.816170731707317\n",
      "Iteration:  420\n",
      "[6 8 8 ... 6 9 3] [6 8 8 ... 6 9 3]\n",
      "0.8188780487804878\n",
      "Iteration:  430\n",
      "[6 8 8 ... 6 9 3] [6 8 8 ... 6 9 3]\n",
      "0.8212926829268292\n",
      "Iteration:  440\n",
      "[6 8 8 ... 6 9 3] [6 8 8 ... 6 9 3]\n",
      "0.8232926829268292\n",
      "Iteration:  450\n",
      "[6 8 8 ... 6 9 3] [6 8 8 ... 6 9 3]\n",
      "0.8257073170731707\n",
      "Iteration:  460\n",
      "[6 8 8 ... 6 9 3] [6 8 8 ... 6 9 3]\n",
      "0.828\n",
      "Iteration:  470\n",
      "[6 8 8 ... 6 9 3] [6 8 8 ... 6 9 3]\n",
      "0.830170731707317\n",
      "Iteration:  480\n",
      "[6 8 8 ... 6 9 3] [6 8 8 ... 6 9 3]\n",
      "0.832170731707317\n",
      "Iteration:  490\n",
      "[6 8 8 ... 6 9 3] [6 8 8 ... 6 9 3]\n",
      "0.8339268292682926\n"
     ]
    }
   ],
   "source": [
    "W1, b1, W2, b2 = gradient_descent(X_train, Y_train, 0.10, 500)"
   ]
  },
  {
   "cell_type": "code",
   "execution_count": 8,
   "id": "6b255b6a",
   "metadata": {
    "execution": {
     "iopub.execute_input": "2023-07-01T07:26:51.282233Z",
     "iopub.status.busy": "2023-07-01T07:26:51.281907Z",
     "iopub.status.idle": "2023-07-01T07:26:51.288351Z",
     "shell.execute_reply": "2023-07-01T07:26:51.287673Z"
    },
    "papermill": {
     "duration": 0.018897,
     "end_time": "2023-07-01T07:26:51.291338",
     "exception": false,
     "start_time": "2023-07-01T07:26:51.272441",
     "status": "completed"
    },
    "tags": []
   },
   "outputs": [],
   "source": [
    "def make_predictions(X, W1, b1, W2, b2):\n",
    "    _, _, _, A2 = forward_prop(W1, b1, W2, b2, X)\n",
    "    predictions = get_predictions(A2)\n",
    "    return predictions\n",
    "def test_prediction(index, W1, b1, W2, b2):\n",
    "    current_image = X_train[:, index, None]\n",
    "    prediction = make_predictions(X_train[:, index, None], W1, b1, W2, b2)\n",
    "    label = Y_train[index]\n",
    "    print(\"Prediction: \", prediction)\n",
    "    print(\"Label: \", label)\n",
    "    \n",
    "    current_image = current_image.reshape((28, 28)) * 255\n",
    "    plt.gray()\n",
    "    plt.imshow(current_image, interpolation='nearest')\n",
    "    plt.show()"
   ]
  },
  {
   "cell_type": "code",
   "execution_count": 9,
   "id": "66089adc",
   "metadata": {
    "execution": {
     "iopub.execute_input": "2023-07-01T07:26:51.309328Z",
     "iopub.status.busy": "2023-07-01T07:26:51.309001Z",
     "iopub.status.idle": "2023-07-01T07:26:51.470115Z",
     "shell.execute_reply": "2023-07-01T07:26:51.469235Z"
    },
    "papermill": {
     "duration": 0.171998,
     "end_time": "2023-07-01T07:26:51.471783",
     "exception": false,
     "start_time": "2023-07-01T07:26:51.299785",
     "status": "completed"
    },
    "tags": []
   },
   "outputs": [
    {
     "name": "stdout",
     "output_type": "stream",
     "text": [
      "Prediction:  [6]\n",
      "Label:  6\n"
     ]
    },
    {
     "data": {
      "image/png": "[encoded data removed]",
      "text/plain": [
       "<Figure size 640x480 with 1 Axes>"
      ]
     },
     "metadata": {},
     "output_type": "display_data"
    }
   ],
   "source": [
    "test_prediction(0, W1, b1, W2, b2)"
   ]
  },
  {
   "cell_type": "code",
   "execution_count": 10,
   "id": "a950c91e",
   "metadata": {
    "execution": {
     "iopub.execute_input": "2023-07-01T07:26:51.487411Z",
     "iopub.status.busy": "2023-07-01T07:26:51.486582Z",
     "iopub.status.idle": "2023-07-01T07:26:51.617351Z",
     "shell.execute_reply": "2023-07-01T07:26:51.616343Z"
    },
    "papermill": {
     "duration": 0.140922,
     "end_time": "2023-07-01T07:26:51.619743",
     "exception": false,
     "start_time": "2023-07-01T07:26:51.478821",
     "status": "completed"
    },
    "tags": []
   },
   "outputs": [
    {
     "name": "stdout",
     "output_type": "stream",
     "text": [
      "Prediction:  [8]\n",
      "Label:  8\n"
     ]
    },
    {
     "data": {
      "image/png": "[encoded data removed]",
      "text/plain": [
       "<Figure size 640x480 with 1 Axes>"
      ]
     },
     "metadata": {},
     "output_type": "display_data"
    }
   ],
   "source": [
    "test_prediction(1, W1, b1, W2, b2)\n"
   ]
  },
  {
   "cell_type": "code",
   "execution_count": 11,
   "id": "8f69dc0b",
   "metadata": {
    "execution": {
     "iopub.execute_input": "2023-07-01T07:26:51.635958Z",
     "iopub.status.busy": "2023-07-01T07:26:51.635220Z",
     "iopub.status.idle": "2023-07-01T07:26:51.778800Z",
     "shell.execute_reply": "2023-07-01T07:26:51.777762Z"
    },
    "papermill": {
     "duration": 0.154439,
     "end_time": "2023-07-01T07:26:51.781385",
     "exception": false,
     "start_time": "2023-07-01T07:26:51.626946",
     "status": "completed"
    },
    "tags": []
   },
   "outputs": [
    {
     "name": "stdout",
     "output_type": "stream",
     "text": [
      "Prediction:  [8]\n",
      "Label:  8\n"
     ]
    },
    {
     "data": {
      "image/png": "[encoded data removed]",
      "text/plain": [
       "<Figure size 640x480 with 1 Axes>"
      ]
     },
     "metadata": {},
     "output_type": "display_data"
    }
   ],
   "source": [
    "test_prediction(2, W1, b1, W2, b2)\n"
   ]
  },
  {
   "cell_type": "code",
   "execution_count": 12,
   "id": "c4c29b7f",
   "metadata": {
    "execution": {
     "iopub.execute_input": "2023-07-01T07:26:51.797480Z",
     "iopub.status.busy": "2023-07-01T07:26:51.797111Z",
     "iopub.status.idle": "2023-07-01T07:26:51.933629Z",
     "shell.execute_reply": "2023-07-01T07:26:51.932757Z"
    },
    "papermill": {
     "duration": 0.146587,
     "end_time": "2023-07-01T07:26:51.935342",
     "exception": false,
     "start_time": "2023-07-01T07:26:51.788755",
     "status": "completed"
    },
    "tags": []
   },
   "outputs": [
    {
     "name": "stdout",
     "output_type": "stream",
     "text": [
      "Prediction:  [5]\n",
      "Label:  5\n"
     ]
    },
    {
     "data": {
      "image/png": "[encoded data removed]",
      "text/plain": [
       "<Figure size 640x480 with 1 Axes>"
      ]
     },
     "metadata": {},
     "output_type": "display_data"
    }
   ],
   "source": [
    "test_prediction(3, W1, b1, W2, b2)"
   ]
  },
  {
   "cell_type": "code",
   "execution_count": 13,
   "id": "414e260b",
   "metadata": {
    "execution": {
     "iopub.execute_input": "2023-07-01T07:26:51.953186Z",
     "iopub.status.busy": "2023-07-01T07:26:51.951485Z",
     "iopub.status.idle": "2023-07-01T07:26:51.966266Z",
     "shell.execute_reply": "2023-07-01T07:26:51.965431Z"
    },
    "papermill": {
     "duration": 0.025879,
     "end_time": "2023-07-01T07:26:51.968783",
     "exception": false,
     "start_time": "2023-07-01T07:26:51.942904",
     "status": "completed"
    },
    "tags": []
   },
   "outputs": [
    {
     "name": "stdout",
     "output_type": "stream",
     "text": [
      "[7 3 8 8 7 8 9 3 6 3 3 3 1 9 2 6 4 0 8 0 9 0 4 5 9 1 1 1 6 3 0 6 1 4 4 5 9\n",
      " 9 4 8 6 0 1 2 1 4 8 1 7 0 4 6 7 9 6 4 4 9 2 4 7 1 6 7 7 8 6 6 1 0 9 2 8 1\n",
      " 3 8 3 1 7 9 2 7 7 5 9 2 1 3 4 8 9 3 8 7 1 8 3 1 9 7 7 1 5 1 7 6 5 5 8 4 0\n",
      " 9 3 8 5 9 0 0 7 9 8 3 4 7 3 5 6 1 8 6 7 0 6 7 5 6 0 3 1 1 5 4 8 6 1 2 9 4\n",
      " 8 0 8 7 3 0 3 3 2 7 6 5 1 8 6 8 5 0 6 5 6 2 5 6 6 2 1 3 8 4 3 3 0 2 4 7 4\n",
      " 4 6 6 5 7 3 7 6 6 5 1 0 2 0 9 8 2 3 3 1 8 5 4 9 7 4 8 8 6 7 5 8 9 5 5 3 9\n",
      " 5 0 9 8 0 0 1 7 8 7 1 1 6 3 9 6 5 0 0 3 7 5 9 3 0 6 4 2 6 5 6 0 9 7 4 7 5\n",
      " 3 8 9 9 5 7 3 2 4 5 7 2 1 8 7 7 8 8 5 1 4 2 9 7 8 0 3 6 0 5 8 7 1 1 7 1 3\n",
      " 7 3 9 1 8 1 6 8 9 0 5 1 0 8 7 1 6 2 5 0 0 8 9 3 2 2 7 1 2 8 3 8 6 2 4 7 2\n",
      " 1 3 4 1 0 1 1 2 1 6 1 7 9 7 8 1 2 6 9 5 8 6 3 6 7 7 9 6 9 8 5 9 7 6 4 1 0\n",
      " 5 5 9 2 3 1 7 3 7 8 2 4 7 3 0 4 1 7 4 1 0 0 2 1 1 3 4 2 9 1 6 2 8 0 3 3 2\n",
      " 2 2 8 0 8 1 5 3 3 8 6 0 2 5 3 2 0 9 6 5 6 7 5 1 9 0 5 3 6 2 6 8 0 1 2 1 1\n",
      " 9 2 1 0 6 1 3 5 4 7 5 2 1 9 4 1 8 2 5 1 4 3 3 7 7 6 4 3 3 7 8 2 2 0 9 7 6\n",
      " 5 5 2 7 4 2 8 0 9 0 2 6 2 5 2 6 8 6 7 3 5 0 7 5 0 4 3 6 2 0 6 0 1 6 6 8 3\n",
      " 5 6 4 9 3 0 2 4 7 5 9 0 0 5 4 7 8 2 4 7 0 8 1 9 8 3 9 7 3 1 2 4 3 4 8 7 2\n",
      " 0 4 7 3 3 1 0 7 5 7 6 9 6 2 5 4 4 9 8 1 3 3 5 2 1 8 1 8 9 7 2 1 4 7 8 1 7\n",
      " 0 5 6 2 1 8 1 3 9 0 1 4 7 4 8 8 0 5 6 9 9 3 9 1 7 9 2 2 4 4 7 5 4 4 4 3 8\n",
      " 0 0 8 7 2 6 7 1 1 3 2 4 2 2 7 1 9 4 7 2 1 2 3 4 4 1 8 7 4 4 2 7 9 5 0 8 1\n",
      " 6 7 4 4 4 2 2 0 0 7 6 3 7 3 7 3 0 7 2 7 1 4 9 7 1 4 1 2 5 7 2 1 1 8 4 8 9\n",
      " 3 6 8 6 6 4 1 2 7 1 1 4 2 5 7 9 7 7 1 9 7 6 7 0 9 1 5 6 8 4 3 3 1 9 7 6 7\n",
      " 2 0 2 1 0 6 3 1 6 9 3 7 3 1 9 0 5 1 2 8 6 7 9 6 2 1 3 9 1 1 7 1 0 9 2 5 7\n",
      " 5 3 5 9 5 6 0 5 5 9 6 7 9 2 0 5 8 3 9 1 8 0 8 0 7 3 8 5 5 1 3 0 0 2 3 3 3\n",
      " 0 6 3 9 3 2 7 5 1 5 4 6 7 6 7 9 0 0 5 6 2 9 2 0 5 2 0 8 7 0 7 6 0 3 1 7 5\n",
      " 7 6 0 3 2 9 2 6 7 5 4 3 7 6 0 1 9 1 2 9 8 5 0 0 8 1 1 2 7 6 1 7 1 6 5 8 1\n",
      " 1 6 7 3 4 1 7 7 7 0 6 6 0 3 2 6 6 2 3 0 5 5 5 1 3 4 4 2 5 9 2 2 8 0 2 6 6\n",
      " 1 6 0 6 3 1 9 1 0 4 7 4 7 6 6 9 1 9 3 4 1 0 1 7 8 3 6 6 1 7 1 1 2 4 6 4 4\n",
      " 2 3 0 4 3 2 9 0 2 5 2 9 2 5 3 2 1 2 6 7 1 8 2 9 1 0 3 8 5 8 4 6 4 8 6 3 7\n",
      " 3] [7 3 8 8 7 2 9 8 6 3 3 3 1 9 4 6 9 0 8 0 9 0 5 8 9 1 1 1 5 3 0 6 1 4 4 5 9\n",
      " 5 4 8 3 0 1 2 1 4 8 1 7 0 4 6 7 9 6 5 4 9 2 4 7 1 6 7 7 8 6 6 7 0 9 2 8 1\n",
      " 3 2 3 1 3 9 2 7 5 5 9 2 1 3 4 8 2 3 8 7 1 0 3 1 4 7 7 1 5 1 7 3 8 5 8 4 0\n",
      " 4 3 8 5 9 0 7 9 9 8 3 4 7 3 5 6 1 8 6 7 0 2 7 5 6 2 3 1 1 5 4 8 6 1 2 9 7\n",
      " 8 0 8 7 3 0 3 3 2 7 2 5 1 8 6 4 5 0 6 5 6 2 3 6 6 2 1 3 8 4 3 3 0 2 4 7 4\n",
      " 4 3 6 5 7 3 9 6 6 5 1 0 2 0 4 8 2 3 7 1 8 5 4 9 7 4 8 8 6 7 5 8 9 3 6 3 9\n",
      " 5 0 9 2 0 0 1 7 8 7 8 1 5 8 9 4 3 0 6 3 7 5 4 3 0 6 4 2 6 8 6 0 9 7 4 7 5\n",
      " 3 8 4 9 5 2 0 2 4 5 7 2 1 8 7 7 8 8 3 1 9 6 9 7 8 6 3 6 4 8 0 7 1 2 7 1 3\n",
      " 7 3 9 1 8 1 5 5 9 0 5 1 0 8 7 1 6 2 5 0 0 8 4 3 2 2 7 1 2 8 9 3 6 2 4 7 2\n",
      " 1 3 4 1 0 1 8 2 1 6 1 7 4 7 8 3 2 2 7 3 8 6 5 6 7 7 9 6 9 8 5 9 7 6 4 1 0\n",
      " 5 5 9 2 3 1 9 3 7 8 3 4 7 3 0 4 1 3 4 1 0 0 2 1 1 3 4 2 9 1 6 6 5 0 6 0 2\n",
      " 0 2 8 0 8 1 5 2 3 0 6 0 2 5 3 2 0 9 6 5 6 7 5 3 9 0 5 5 6 2 6 5 0 1 2 1 1\n",
      " 9 2 1 0 6 1 5 5 9 8 5 2 1 9 4 1 8 2 6 1 6 5 3 9 7 6 9 3 1 9 5 2 2 0 9 7 6\n",
      " 8 0 2 7 4 2 8 0 9 0 2 6 2 5 2 5 8 6 7 3 5 0 7 5 9 9 3 6 2 0 6 0 1 6 6 8 3\n",
      " 5 6 4 9 3 0 2 4 7 8 9 5 0 5 4 7 8 2 4 7 6 8 1 7 8 3 9 7 3 7 2 4 3 4 8 7 2\n",
      " 0 4 7 3 3 1 0 7 5 9 6 8 6 2 8 4 4 9 8 1 3 3 5 2 1 8 1 8 9 7 2 1 4 7 8 1 7\n",
      " 0 5 6 3 1 2 1 3 9 0 1 4 9 4 8 3 0 5 2 9 9 3 9 1 7 9 2 2 4 4 7 5 4 4 9 3 8\n",
      " 2 0 8 7 2 6 2 1 1 3 2 4 2 2 7 1 4 4 7 2 9 2 3 4 4 1 8 7 4 4 7 8 9 5 0 8 1\n",
      " 6 7 4 4 9 7 2 0 0 7 3 3 7 3 7 3 0 7 2 7 1 4 8 7 1 4 1 2 5 2 2 1 1 8 4 8 9\n",
      " 3 4 8 6 2 4 1 2 9 1 1 4 2 5 7 9 7 7 1 9 7 2 7 0 9 1 5 6 8 4 3 3 1 9 2 2 7\n",
      " 2 0 2 1 0 6 3 1 6 9 3 7 3 1 4 0 5 1 2 8 6 7 9 6 2 1 3 9 1 9 7 1 0 8 2 8 7\n",
      " 8 3 5 3 5 6 6 6 5 3 6 7 9 2 3 5 4 3 9 1 8 0 8 0 3 3 3 5 5 1 3 5 0 2 5 3 3\n",
      " 0 6 3 7 3 2 7 3 4 5 4 6 7 6 7 9 0 0 5 6 7 9 2 0 5 3 0 8 7 0 7 2 0 2 1 7 5\n",
      " 7 3 0 3 6 9 2 6 7 5 4 3 7 6 0 1 9 1 2 9 2 5 0 3 8 1 5 2 7 6 1 7 1 6 5 8 1\n",
      " 1 6 7 3 4 1 7 7 9 0 6 6 0 3 8 6 6 2 3 0 5 5 0 1 3 9 4 2 5 9 2 4 8 0 2 6 6\n",
      " 1 4 0 0 3 1 9 1 0 4 7 7 2 4 6 9 1 4 3 4 1 0 1 7 8 3 6 6 1 8 8 1 2 4 6 4 4\n",
      " 2 9 0 4 3 2 7 5 2 7 7 9 2 5 3 2 1 5 6 7 1 8 2 9 1 0 3 8 5 8 4 6 5 8 2 3 7\n",
      " 3]\n"
     ]
    },
    {
     "data": {
      "text/plain": [
       "0.826"
      ]
     },
     "execution_count": 13,
     "metadata": {},
     "output_type": "execute_result"
    }
   ],
   "source": [
    "dev_predictions = make_predictions(X_dev, W1, b1, W2, b2)\n",
    "get_accuracy(dev_predictions, Y_dev)"
   ]
  },
  {
   "cell_type": "code",
   "execution_count": 14,
   "id": "6a5c891f",
   "metadata": {
    "execution": {
     "iopub.execute_input": "2023-07-01T07:26:51.989848Z",
     "iopub.status.busy": "2023-07-01T07:26:51.989530Z",
     "iopub.status.idle": "2023-07-01T07:26:51.993313Z",
     "shell.execute_reply": "2023-07-01T07:26:51.992414Z"
    },
    "papermill": {
     "duration": 0.016856,
     "end_time": "2023-07-01T07:26:51.995722",
     "exception": false,
     "start_time": "2023-07-01T07:26:51.978866",
     "status": "completed"
    },
    "tags": []
   },
   "outputs": [],
   "source": [
    "# thus we have an 86% accuracy obtained from training dataset"
   ]
  }
 ],
 "metadata": {
  "kernelspec": {
   "display_name": "Python 3",
   "language": "python",
   "name": "python3"
  },
  "language_info": {
   "codemirror_mode": {
    "name": "ipython",
    "version": 3
   },
   "file_extension": ".py",
   "mimetype": "text/x-python",
   "name": "python",
   "nbconvert_exporter": "python",
   "pygments_lexer": "ipython3",
   "version": "3.10.10"
  },
  "papermill": {
   "default_parameters": {},
   "duration": 46.193343,
   "end_time": "2023-07-01T07:26:52.727098",
   "environment_variables": {},
   "exception": null,
   "input_path": "__notebook__.ipynb",
   "output_path": "__notebook__.ipynb",
   "parameters": {},
   "start_time": "2023-07-01T07:26:06.533755",
   "version": "2.4.0"
  }
 },
 "nbformat": 4,
 "nbformat_minor": 5
}
