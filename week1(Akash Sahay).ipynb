{
 "cells": [
  {
   "cell_type": "markdown",
   "metadata": {
    "id": "7t7O3hPJQQ1h"
   },
   "source": [
    "**Welcome to your first assignment of Summer Analytics 2023! We hope you are excited to implement and test everything you have learnt up until now.<a href = \"https://drive.google.com/file/d/1U73P58VAc4EXM98Or9feKnVx9I9FOP_L/view?usp=sharing\"> The dataset</a> which you'll use includes information about Movies.**"
   ]
  },
  {
   "cell_type": "markdown",
   "metadata": {
    "id": "8yDZv8F_QiqH"
   },
   "source": [
    " We've got an interesting set of questions for you to get a basic understanding of pandas and data visualization libraries. GOOD LUCK!\n",
    " \n",
    "Let's get started with importing numpy, pandas, seaborn and matplotlib! "
   ]
  },
  {
   "cell_type": "markdown",
   "metadata": {
    "id": "p-nMuCNQQxx_"
   },
   "source": [
    "Note - matplotlib should be imported with the command :\n",
    "\n",
    "**import matplotlib.pyplot as plt**"
   ]
  },
  {
   "cell_type": "markdown",
   "metadata": {
    "id": "nz8BTfnCRC8v"
   },
   "source": [
    "Start by importing all important libraries"
   ]
  },
  {
   "cell_type": "code",
   "execution_count": 3,
   "metadata": {
    "id": "rKkyeMJiO0up"
   },
   "outputs": [],
   "source": [
    "import numpy as np\n",
    "import pandas as pd\n",
    "import seaborn as sns\n",
    "import matplotlib.pyplot as plt"
   ]
  },
  {
   "cell_type": "markdown",
   "metadata": {
    "id": "2N8LabERRONN"
   },
   "source": [
    "Read the csv file and assign it to a variable ."
   ]
  },
  {
   "cell_type": "code",
   "execution_count": 5,
   "metadata": {
    "id": "vnjh3IZmRO72"
   },
   "outputs": [
    {
     "data": {
      "text/html": [
       "<div>\n",
       "<style scoped>\n",
       "    .dataframe tbody tr th:only-of-type {\n",
       "        vertical-align: middle;\n",
       "    }\n",
       "\n",
       "    .dataframe tbody tr th {\n",
       "        vertical-align: top;\n",
       "    }\n",
       "\n",
       "    .dataframe thead th {\n",
       "        text-align: right;\n",
       "    }\n",
       "</style>\n",
       "<table border=\"1\" class=\"dataframe\">\n",
       "  <thead>\n",
       "    <tr style=\"text-align: right;\">\n",
       "      <th></th>\n",
       "      <th>Poster_Link</th>\n",
       "      <th>Series_Title</th>\n",
       "      <th>Released_Year</th>\n",
       "      <th>Certificate</th>\n",
       "      <th>Runtime</th>\n",
       "      <th>Genre</th>\n",
       "      <th>IMDB_Rating</th>\n",
       "      <th>Overview</th>\n",
       "      <th>Meta_score</th>\n",
       "      <th>Director</th>\n",
       "      <th>Star1</th>\n",
       "      <th>Star2</th>\n",
       "      <th>Star3</th>\n",
       "      <th>Star4</th>\n",
       "      <th>No_of_Votes</th>\n",
       "      <th>Gross</th>\n",
       "    </tr>\n",
       "  </thead>\n",
       "  <tbody>\n",
       "    <tr>\n",
       "      <th>0</th>\n",
       "      <td>https://m.media-amazon.com/images/M/MV5BMDFkYT...</td>\n",
       "      <td>The Shawshank Redemption</td>\n",
       "      <td>1994</td>\n",
       "      <td>A</td>\n",
       "      <td>142 min</td>\n",
       "      <td>Drama</td>\n",
       "      <td>9.3</td>\n",
       "      <td>Two imprisoned men bond over a number of years...</td>\n",
       "      <td>80.0</td>\n",
       "      <td>Frank Darabont</td>\n",
       "      <td>Tim Robbins</td>\n",
       "      <td>Morgan Freeman</td>\n",
       "      <td>Bob Gunton</td>\n",
       "      <td>William Sadler</td>\n",
       "      <td>2343110</td>\n",
       "      <td>28,341,469</td>\n",
       "    </tr>\n",
       "    <tr>\n",
       "      <th>1</th>\n",
       "      <td>https://m.media-amazon.com/images/M/MV5BM2MyNj...</td>\n",
       "      <td>The Godfather</td>\n",
       "      <td>1972</td>\n",
       "      <td>A</td>\n",
       "      <td>175 min</td>\n",
       "      <td>Crime, Drama</td>\n",
       "      <td>9.2</td>\n",
       "      <td>An organized crime dynasty's aging patriarch t...</td>\n",
       "      <td>100.0</td>\n",
       "      <td>Francis Ford Coppola</td>\n",
       "      <td>Marlon Brando</td>\n",
       "      <td>Al Pacino</td>\n",
       "      <td>James Caan</td>\n",
       "      <td>Diane Keaton</td>\n",
       "      <td>1620367</td>\n",
       "      <td>134,966,411</td>\n",
       "    </tr>\n",
       "    <tr>\n",
       "      <th>2</th>\n",
       "      <td>https://m.media-amazon.com/images/M/MV5BMTMxNT...</td>\n",
       "      <td>The Dark Knight</td>\n",
       "      <td>2008</td>\n",
       "      <td>UA</td>\n",
       "      <td>152 min</td>\n",
       "      <td>Action, Crime, Drama</td>\n",
       "      <td>9.0</td>\n",
       "      <td>When the menace known as the Joker wreaks havo...</td>\n",
       "      <td>84.0</td>\n",
       "      <td>Christopher Nolan</td>\n",
       "      <td>Christian Bale</td>\n",
       "      <td>Heath Ledger</td>\n",
       "      <td>Aaron Eckhart</td>\n",
       "      <td>Michael Caine</td>\n",
       "      <td>2303232</td>\n",
       "      <td>534,858,444</td>\n",
       "    </tr>\n",
       "    <tr>\n",
       "      <th>3</th>\n",
       "      <td>https://m.media-amazon.com/images/M/MV5BMWMwMG...</td>\n",
       "      <td>The Godfather: Part II</td>\n",
       "      <td>1974</td>\n",
       "      <td>A</td>\n",
       "      <td>202 min</td>\n",
       "      <td>Crime, Drama</td>\n",
       "      <td>9.0</td>\n",
       "      <td>The early life and career of Vito Corleone in ...</td>\n",
       "      <td>90.0</td>\n",
       "      <td>Francis Ford Coppola</td>\n",
       "      <td>Al Pacino</td>\n",
       "      <td>Robert De Niro</td>\n",
       "      <td>Robert Duvall</td>\n",
       "      <td>Diane Keaton</td>\n",
       "      <td>1129952</td>\n",
       "      <td>57,300,000</td>\n",
       "    </tr>\n",
       "    <tr>\n",
       "      <th>4</th>\n",
       "      <td>https://m.media-amazon.com/images/M/MV5BMWU4N2...</td>\n",
       "      <td>12 Angry Men</td>\n",
       "      <td>1957</td>\n",
       "      <td>U</td>\n",
       "      <td>96 min</td>\n",
       "      <td>Crime, Drama</td>\n",
       "      <td>9.0</td>\n",
       "      <td>A jury holdout attempts to prevent a miscarria...</td>\n",
       "      <td>96.0</td>\n",
       "      <td>Sidney Lumet</td>\n",
       "      <td>Henry Fonda</td>\n",
       "      <td>Lee J. Cobb</td>\n",
       "      <td>Martin Balsam</td>\n",
       "      <td>John Fiedler</td>\n",
       "      <td>689845</td>\n",
       "      <td>4,360,000</td>\n",
       "    </tr>\n",
       "    <tr>\n",
       "      <th>...</th>\n",
       "      <td>...</td>\n",
       "      <td>...</td>\n",
       "      <td>...</td>\n",
       "      <td>...</td>\n",
       "      <td>...</td>\n",
       "      <td>...</td>\n",
       "      <td>...</td>\n",
       "      <td>...</td>\n",
       "      <td>...</td>\n",
       "      <td>...</td>\n",
       "      <td>...</td>\n",
       "      <td>...</td>\n",
       "      <td>...</td>\n",
       "      <td>...</td>\n",
       "      <td>...</td>\n",
       "      <td>...</td>\n",
       "    </tr>\n",
       "    <tr>\n",
       "      <th>995</th>\n",
       "      <td>https://m.media-amazon.com/images/M/MV5BNGEwMT...</td>\n",
       "      <td>Breakfast at Tiffany's</td>\n",
       "      <td>1961</td>\n",
       "      <td>A</td>\n",
       "      <td>115 min</td>\n",
       "      <td>Comedy, Drama, Romance</td>\n",
       "      <td>7.6</td>\n",
       "      <td>A young New York socialite becomes interested ...</td>\n",
       "      <td>76.0</td>\n",
       "      <td>Blake Edwards</td>\n",
       "      <td>Audrey Hepburn</td>\n",
       "      <td>George Peppard</td>\n",
       "      <td>Patricia Neal</td>\n",
       "      <td>Buddy Ebsen</td>\n",
       "      <td>166544</td>\n",
       "      <td>NaN</td>\n",
       "    </tr>\n",
       "    <tr>\n",
       "      <th>996</th>\n",
       "      <td>https://m.media-amazon.com/images/M/MV5BODk3Yj...</td>\n",
       "      <td>Giant</td>\n",
       "      <td>1956</td>\n",
       "      <td>G</td>\n",
       "      <td>201 min</td>\n",
       "      <td>Drama, Western</td>\n",
       "      <td>7.6</td>\n",
       "      <td>Sprawling epic covering the life of a Texas ca...</td>\n",
       "      <td>84.0</td>\n",
       "      <td>George Stevens</td>\n",
       "      <td>Elizabeth Taylor</td>\n",
       "      <td>Rock Hudson</td>\n",
       "      <td>James Dean</td>\n",
       "      <td>Carroll Baker</td>\n",
       "      <td>34075</td>\n",
       "      <td>NaN</td>\n",
       "    </tr>\n",
       "    <tr>\n",
       "      <th>997</th>\n",
       "      <td>https://m.media-amazon.com/images/M/MV5BM2U3Yz...</td>\n",
       "      <td>From Here to Eternity</td>\n",
       "      <td>1953</td>\n",
       "      <td>Passed</td>\n",
       "      <td>118 min</td>\n",
       "      <td>Drama, Romance, War</td>\n",
       "      <td>7.6</td>\n",
       "      <td>In Hawaii in 1941, a private is cruelly punish...</td>\n",
       "      <td>85.0</td>\n",
       "      <td>Fred Zinnemann</td>\n",
       "      <td>Burt Lancaster</td>\n",
       "      <td>Montgomery Clift</td>\n",
       "      <td>Deborah Kerr</td>\n",
       "      <td>Donna Reed</td>\n",
       "      <td>43374</td>\n",
       "      <td>30,500,000</td>\n",
       "    </tr>\n",
       "    <tr>\n",
       "      <th>998</th>\n",
       "      <td>https://m.media-amazon.com/images/M/MV5BZTBmMj...</td>\n",
       "      <td>Lifeboat</td>\n",
       "      <td>1944</td>\n",
       "      <td>NaN</td>\n",
       "      <td>97 min</td>\n",
       "      <td>Drama, War</td>\n",
       "      <td>7.6</td>\n",
       "      <td>Several survivors of a torpedoed merchant ship...</td>\n",
       "      <td>78.0</td>\n",
       "      <td>Alfred Hitchcock</td>\n",
       "      <td>Tallulah Bankhead</td>\n",
       "      <td>John Hodiak</td>\n",
       "      <td>Walter Slezak</td>\n",
       "      <td>William Bendix</td>\n",
       "      <td>26471</td>\n",
       "      <td>NaN</td>\n",
       "    </tr>\n",
       "    <tr>\n",
       "      <th>999</th>\n",
       "      <td>https://m.media-amazon.com/images/M/MV5BMTY5OD...</td>\n",
       "      <td>The 39 Steps</td>\n",
       "      <td>1935</td>\n",
       "      <td>NaN</td>\n",
       "      <td>86 min</td>\n",
       "      <td>Crime, Mystery, Thriller</td>\n",
       "      <td>7.6</td>\n",
       "      <td>A man in London tries to help a counter-espion...</td>\n",
       "      <td>93.0</td>\n",
       "      <td>Alfred Hitchcock</td>\n",
       "      <td>Robert Donat</td>\n",
       "      <td>Madeleine Carroll</td>\n",
       "      <td>Lucie Mannheim</td>\n",
       "      <td>Godfrey Tearle</td>\n",
       "      <td>51853</td>\n",
       "      <td>NaN</td>\n",
       "    </tr>\n",
       "  </tbody>\n",
       "</table>\n",
       "<p>1000 rows × 16 columns</p>\n",
       "</div>"
      ],
      "text/plain": [
       "                                           Poster_Link  \\\n",
       "0    https://m.media-amazon.com/images/M/MV5BMDFkYT...   \n",
       "1    https://m.media-amazon.com/images/M/MV5BM2MyNj...   \n",
       "2    https://m.media-amazon.com/images/M/MV5BMTMxNT...   \n",
       "3    https://m.media-amazon.com/images/M/MV5BMWMwMG...   \n",
       "4    https://m.media-amazon.com/images/M/MV5BMWU4N2...   \n",
       "..                                                 ...   \n",
       "995  https://m.media-amazon.com/images/M/MV5BNGEwMT...   \n",
       "996  https://m.media-amazon.com/images/M/MV5BODk3Yj...   \n",
       "997  https://m.media-amazon.com/images/M/MV5BM2U3Yz...   \n",
       "998  https://m.media-amazon.com/images/M/MV5BZTBmMj...   \n",
       "999  https://m.media-amazon.com/images/M/MV5BMTY5OD...   \n",
       "\n",
       "                 Series_Title Released_Year Certificate  Runtime  \\\n",
       "0    The Shawshank Redemption          1994           A  142 min   \n",
       "1               The Godfather          1972           A  175 min   \n",
       "2             The Dark Knight          2008          UA  152 min   \n",
       "3      The Godfather: Part II          1974           A  202 min   \n",
       "4                12 Angry Men          1957           U   96 min   \n",
       "..                        ...           ...         ...      ...   \n",
       "995    Breakfast at Tiffany's          1961           A  115 min   \n",
       "996                     Giant          1956           G  201 min   \n",
       "997     From Here to Eternity          1953      Passed  118 min   \n",
       "998                  Lifeboat          1944         NaN   97 min   \n",
       "999              The 39 Steps          1935         NaN   86 min   \n",
       "\n",
       "                        Genre  IMDB_Rating  \\\n",
       "0                       Drama          9.3   \n",
       "1                Crime, Drama          9.2   \n",
       "2        Action, Crime, Drama          9.0   \n",
       "3                Crime, Drama          9.0   \n",
       "4                Crime, Drama          9.0   \n",
       "..                        ...          ...   \n",
       "995    Comedy, Drama, Romance          7.6   \n",
       "996            Drama, Western          7.6   \n",
       "997       Drama, Romance, War          7.6   \n",
       "998                Drama, War          7.6   \n",
       "999  Crime, Mystery, Thriller          7.6   \n",
       "\n",
       "                                              Overview  Meta_score  \\\n",
       "0    Two imprisoned men bond over a number of years...        80.0   \n",
       "1    An organized crime dynasty's aging patriarch t...       100.0   \n",
       "2    When the menace known as the Joker wreaks havo...        84.0   \n",
       "3    The early life and career of Vito Corleone in ...        90.0   \n",
       "4    A jury holdout attempts to prevent a miscarria...        96.0   \n",
       "..                                                 ...         ...   \n",
       "995  A young New York socialite becomes interested ...        76.0   \n",
       "996  Sprawling epic covering the life of a Texas ca...        84.0   \n",
       "997  In Hawaii in 1941, a private is cruelly punish...        85.0   \n",
       "998  Several survivors of a torpedoed merchant ship...        78.0   \n",
       "999  A man in London tries to help a counter-espion...        93.0   \n",
       "\n",
       "                 Director              Star1              Star2  \\\n",
       "0          Frank Darabont        Tim Robbins     Morgan Freeman   \n",
       "1    Francis Ford Coppola      Marlon Brando          Al Pacino   \n",
       "2       Christopher Nolan     Christian Bale       Heath Ledger   \n",
       "3    Francis Ford Coppola          Al Pacino     Robert De Niro   \n",
       "4            Sidney Lumet        Henry Fonda        Lee J. Cobb   \n",
       "..                    ...                ...                ...   \n",
       "995         Blake Edwards     Audrey Hepburn     George Peppard   \n",
       "996        George Stevens   Elizabeth Taylor        Rock Hudson   \n",
       "997        Fred Zinnemann     Burt Lancaster   Montgomery Clift   \n",
       "998      Alfred Hitchcock  Tallulah Bankhead        John Hodiak   \n",
       "999      Alfred Hitchcock       Robert Donat  Madeleine Carroll   \n",
       "\n",
       "              Star3           Star4  No_of_Votes        Gross  \n",
       "0        Bob Gunton  William Sadler      2343110   28,341,469  \n",
       "1        James Caan    Diane Keaton      1620367  134,966,411  \n",
       "2     Aaron Eckhart   Michael Caine      2303232  534,858,444  \n",
       "3     Robert Duvall    Diane Keaton      1129952   57,300,000  \n",
       "4     Martin Balsam    John Fiedler       689845    4,360,000  \n",
       "..              ...             ...          ...          ...  \n",
       "995   Patricia Neal     Buddy Ebsen       166544          NaN  \n",
       "996      James Dean   Carroll Baker        34075          NaN  \n",
       "997    Deborah Kerr      Donna Reed        43374   30,500,000  \n",
       "998   Walter Slezak  William Bendix        26471          NaN  \n",
       "999  Lucie Mannheim  Godfrey Tearle        51853          NaN  \n",
       "\n",
       "[1000 rows x 16 columns]"
      ]
     },
     "execution_count": 5,
     "metadata": {},
     "output_type": "execute_result"
    }
   ],
   "source": [
    "movies = pd.read_csv('C:\\\\Users\\\\Akash Sahay\\\\Downloads\\\\imdb_top_1000.csv')\n",
    "movies"
   ]
  },
  {
   "cell_type": "markdown",
   "metadata": {
    "id": "EifdwomBRPxy"
   },
   "source": [
    "Display shape of dataframe"
   ]
  },
  {
   "cell_type": "code",
   "execution_count": 4,
   "metadata": {
    "id": "lM8S9INfRSt3"
   },
   "outputs": [
    {
     "data": {
      "text/plain": [
       "(1000, 16)"
      ]
     },
     "execution_count": 4,
     "metadata": {},
     "output_type": "execute_result"
    }
   ],
   "source": [
    "movies.shape"
   ]
  },
  {
   "cell_type": "markdown",
   "metadata": {
    "id": "Q9xTIt54RVTY"
   },
   "source": [
    "Print all columns of dataframe"
   ]
  },
  {
   "cell_type": "code",
   "execution_count": 5,
   "metadata": {
    "id": "kn3VPvn6RV4_"
   },
   "outputs": [
    {
     "data": {
      "text/plain": [
       "Index(['Poster_Link', 'Series_Title', 'Released_Year', 'Certificate',\n",
       "       'Runtime', 'Genre', 'IMDB_Rating', 'Overview', 'Meta_score', 'Director',\n",
       "       'Star1', 'Star2', 'Star3', 'Star4', 'No_of_Votes', 'Gross'],\n",
       "      dtype='object')"
      ]
     },
     "execution_count": 5,
     "metadata": {},
     "output_type": "execute_result"
    }
   ],
   "source": [
    "movies.columns"
   ]
  },
  {
   "cell_type": "markdown",
   "metadata": {
    "id": "3jtm084KRleN"
   },
   "source": [
    "Remove the column 'Poster_Link' and update the dataframe."
   ]
  },
  {
   "cell_type": "code",
   "execution_count": 7,
   "metadata": {
    "id": "zYIz3q0ARnuU"
   },
   "outputs": [
    {
     "ename": "KeyError",
     "evalue": "\"['Poster_Link'] not found in axis\"",
     "output_type": "error",
     "traceback": [
      "\u001b[1;31m---------------------------------------------------------------------------\u001b[0m",
      "\u001b[1;31mKeyError\u001b[0m                                  Traceback (most recent call last)",
      "Input \u001b[1;32mIn [7]\u001b[0m, in \u001b[0;36m<cell line: 1>\u001b[1;34m()\u001b[0m\n\u001b[1;32m----> 1\u001b[0m \u001b[43mmovies\u001b[49m\u001b[38;5;241;43m.\u001b[39;49m\u001b[43mdrop\u001b[49m\u001b[43m(\u001b[49m\u001b[38;5;124;43m'\u001b[39;49m\u001b[38;5;124;43mPoster_Link\u001b[39;49m\u001b[38;5;124;43m'\u001b[39;49m\u001b[43m,\u001b[49m\u001b[43m \u001b[49m\u001b[43maxis\u001b[49m\u001b[38;5;241;43m=\u001b[39;49m\u001b[38;5;241;43m1\u001b[39;49m\u001b[43m,\u001b[49m\u001b[43m \u001b[49m\u001b[43minplace\u001b[49m\u001b[38;5;241;43m=\u001b[39;49m\u001b[38;5;28;43;01mTrue\u001b[39;49;00m\u001b[43m)\u001b[49m\n",
      "File \u001b[1;32mC:\\ProgramData\\Anaconda3\\lib\\site-packages\\pandas\\util\\_decorators.py:311\u001b[0m, in \u001b[0;36mdeprecate_nonkeyword_arguments.<locals>.decorate.<locals>.wrapper\u001b[1;34m(*args, **kwargs)\u001b[0m\n\u001b[0;32m    305\u001b[0m \u001b[38;5;28;01mif\u001b[39;00m \u001b[38;5;28mlen\u001b[39m(args) \u001b[38;5;241m>\u001b[39m num_allow_args:\n\u001b[0;32m    306\u001b[0m     warnings\u001b[38;5;241m.\u001b[39mwarn(\n\u001b[0;32m    307\u001b[0m         msg\u001b[38;5;241m.\u001b[39mformat(arguments\u001b[38;5;241m=\u001b[39marguments),\n\u001b[0;32m    308\u001b[0m         \u001b[38;5;167;01mFutureWarning\u001b[39;00m,\n\u001b[0;32m    309\u001b[0m         stacklevel\u001b[38;5;241m=\u001b[39mstacklevel,\n\u001b[0;32m    310\u001b[0m     )\n\u001b[1;32m--> 311\u001b[0m \u001b[38;5;28;01mreturn\u001b[39;00m func(\u001b[38;5;241m*\u001b[39margs, \u001b[38;5;241m*\u001b[39m\u001b[38;5;241m*\u001b[39mkwargs)\n",
      "File \u001b[1;32mC:\\ProgramData\\Anaconda3\\lib\\site-packages\\pandas\\core\\frame.py:4954\u001b[0m, in \u001b[0;36mDataFrame.drop\u001b[1;34m(self, labels, axis, index, columns, level, inplace, errors)\u001b[0m\n\u001b[0;32m   4806\u001b[0m \u001b[38;5;129m@deprecate_nonkeyword_arguments\u001b[39m(version\u001b[38;5;241m=\u001b[39m\u001b[38;5;28;01mNone\u001b[39;00m, allowed_args\u001b[38;5;241m=\u001b[39m[\u001b[38;5;124m\"\u001b[39m\u001b[38;5;124mself\u001b[39m\u001b[38;5;124m\"\u001b[39m, \u001b[38;5;124m\"\u001b[39m\u001b[38;5;124mlabels\u001b[39m\u001b[38;5;124m\"\u001b[39m])\n\u001b[0;32m   4807\u001b[0m \u001b[38;5;28;01mdef\u001b[39;00m \u001b[38;5;21mdrop\u001b[39m(\n\u001b[0;32m   4808\u001b[0m     \u001b[38;5;28mself\u001b[39m,\n\u001b[1;32m   (...)\u001b[0m\n\u001b[0;32m   4815\u001b[0m     errors: \u001b[38;5;28mstr\u001b[39m \u001b[38;5;241m=\u001b[39m \u001b[38;5;124m\"\u001b[39m\u001b[38;5;124mraise\u001b[39m\u001b[38;5;124m\"\u001b[39m,\n\u001b[0;32m   4816\u001b[0m ):\n\u001b[0;32m   4817\u001b[0m     \u001b[38;5;124;03m\"\"\"\u001b[39;00m\n\u001b[0;32m   4818\u001b[0m \u001b[38;5;124;03m    Drop specified labels from rows or columns.\u001b[39;00m\n\u001b[0;32m   4819\u001b[0m \n\u001b[1;32m   (...)\u001b[0m\n\u001b[0;32m   4952\u001b[0m \u001b[38;5;124;03m            weight  1.0     0.8\u001b[39;00m\n\u001b[0;32m   4953\u001b[0m \u001b[38;5;124;03m    \"\"\"\u001b[39;00m\n\u001b[1;32m-> 4954\u001b[0m     \u001b[38;5;28;01mreturn\u001b[39;00m \u001b[38;5;28;43msuper\u001b[39;49m\u001b[43m(\u001b[49m\u001b[43m)\u001b[49m\u001b[38;5;241;43m.\u001b[39;49m\u001b[43mdrop\u001b[49m\u001b[43m(\u001b[49m\n\u001b[0;32m   4955\u001b[0m \u001b[43m        \u001b[49m\u001b[43mlabels\u001b[49m\u001b[38;5;241;43m=\u001b[39;49m\u001b[43mlabels\u001b[49m\u001b[43m,\u001b[49m\n\u001b[0;32m   4956\u001b[0m \u001b[43m        \u001b[49m\u001b[43maxis\u001b[49m\u001b[38;5;241;43m=\u001b[39;49m\u001b[43maxis\u001b[49m\u001b[43m,\u001b[49m\n\u001b[0;32m   4957\u001b[0m \u001b[43m        \u001b[49m\u001b[43mindex\u001b[49m\u001b[38;5;241;43m=\u001b[39;49m\u001b[43mindex\u001b[49m\u001b[43m,\u001b[49m\n\u001b[0;32m   4958\u001b[0m \u001b[43m        \u001b[49m\u001b[43mcolumns\u001b[49m\u001b[38;5;241;43m=\u001b[39;49m\u001b[43mcolumns\u001b[49m\u001b[43m,\u001b[49m\n\u001b[0;32m   4959\u001b[0m \u001b[43m        \u001b[49m\u001b[43mlevel\u001b[49m\u001b[38;5;241;43m=\u001b[39;49m\u001b[43mlevel\u001b[49m\u001b[43m,\u001b[49m\n\u001b[0;32m   4960\u001b[0m \u001b[43m        \u001b[49m\u001b[43minplace\u001b[49m\u001b[38;5;241;43m=\u001b[39;49m\u001b[43minplace\u001b[49m\u001b[43m,\u001b[49m\n\u001b[0;32m   4961\u001b[0m \u001b[43m        \u001b[49m\u001b[43merrors\u001b[49m\u001b[38;5;241;43m=\u001b[39;49m\u001b[43merrors\u001b[49m\u001b[43m,\u001b[49m\n\u001b[0;32m   4962\u001b[0m \u001b[43m    \u001b[49m\u001b[43m)\u001b[49m\n",
      "File \u001b[1;32mC:\\ProgramData\\Anaconda3\\lib\\site-packages\\pandas\\core\\generic.py:4267\u001b[0m, in \u001b[0;36mNDFrame.drop\u001b[1;34m(self, labels, axis, index, columns, level, inplace, errors)\u001b[0m\n\u001b[0;32m   4265\u001b[0m \u001b[38;5;28;01mfor\u001b[39;00m axis, labels \u001b[38;5;129;01min\u001b[39;00m axes\u001b[38;5;241m.\u001b[39mitems():\n\u001b[0;32m   4266\u001b[0m     \u001b[38;5;28;01mif\u001b[39;00m labels \u001b[38;5;129;01mis\u001b[39;00m \u001b[38;5;129;01mnot\u001b[39;00m \u001b[38;5;28;01mNone\u001b[39;00m:\n\u001b[1;32m-> 4267\u001b[0m         obj \u001b[38;5;241m=\u001b[39m \u001b[43mobj\u001b[49m\u001b[38;5;241;43m.\u001b[39;49m\u001b[43m_drop_axis\u001b[49m\u001b[43m(\u001b[49m\u001b[43mlabels\u001b[49m\u001b[43m,\u001b[49m\u001b[43m \u001b[49m\u001b[43maxis\u001b[49m\u001b[43m,\u001b[49m\u001b[43m \u001b[49m\u001b[43mlevel\u001b[49m\u001b[38;5;241;43m=\u001b[39;49m\u001b[43mlevel\u001b[49m\u001b[43m,\u001b[49m\u001b[43m \u001b[49m\u001b[43merrors\u001b[49m\u001b[38;5;241;43m=\u001b[39;49m\u001b[43merrors\u001b[49m\u001b[43m)\u001b[49m\n\u001b[0;32m   4269\u001b[0m \u001b[38;5;28;01mif\u001b[39;00m inplace:\n\u001b[0;32m   4270\u001b[0m     \u001b[38;5;28mself\u001b[39m\u001b[38;5;241m.\u001b[39m_update_inplace(obj)\n",
      "File \u001b[1;32mC:\\ProgramData\\Anaconda3\\lib\\site-packages\\pandas\\core\\generic.py:4311\u001b[0m, in \u001b[0;36mNDFrame._drop_axis\u001b[1;34m(self, labels, axis, level, errors, consolidate, only_slice)\u001b[0m\n\u001b[0;32m   4309\u001b[0m         new_axis \u001b[38;5;241m=\u001b[39m axis\u001b[38;5;241m.\u001b[39mdrop(labels, level\u001b[38;5;241m=\u001b[39mlevel, errors\u001b[38;5;241m=\u001b[39merrors)\n\u001b[0;32m   4310\u001b[0m     \u001b[38;5;28;01melse\u001b[39;00m:\n\u001b[1;32m-> 4311\u001b[0m         new_axis \u001b[38;5;241m=\u001b[39m \u001b[43maxis\u001b[49m\u001b[38;5;241;43m.\u001b[39;49m\u001b[43mdrop\u001b[49m\u001b[43m(\u001b[49m\u001b[43mlabels\u001b[49m\u001b[43m,\u001b[49m\u001b[43m \u001b[49m\u001b[43merrors\u001b[49m\u001b[38;5;241;43m=\u001b[39;49m\u001b[43merrors\u001b[49m\u001b[43m)\u001b[49m\n\u001b[0;32m   4312\u001b[0m     indexer \u001b[38;5;241m=\u001b[39m axis\u001b[38;5;241m.\u001b[39mget_indexer(new_axis)\n\u001b[0;32m   4314\u001b[0m \u001b[38;5;66;03m# Case for non-unique axis\u001b[39;00m\n\u001b[0;32m   4315\u001b[0m \u001b[38;5;28;01melse\u001b[39;00m:\n",
      "File \u001b[1;32mC:\\ProgramData\\Anaconda3\\lib\\site-packages\\pandas\\core\\indexes\\base.py:6644\u001b[0m, in \u001b[0;36mIndex.drop\u001b[1;34m(self, labels, errors)\u001b[0m\n\u001b[0;32m   6642\u001b[0m \u001b[38;5;28;01mif\u001b[39;00m mask\u001b[38;5;241m.\u001b[39many():\n\u001b[0;32m   6643\u001b[0m     \u001b[38;5;28;01mif\u001b[39;00m errors \u001b[38;5;241m!=\u001b[39m \u001b[38;5;124m\"\u001b[39m\u001b[38;5;124mignore\u001b[39m\u001b[38;5;124m\"\u001b[39m:\n\u001b[1;32m-> 6644\u001b[0m         \u001b[38;5;28;01mraise\u001b[39;00m \u001b[38;5;167;01mKeyError\u001b[39;00m(\u001b[38;5;124mf\u001b[39m\u001b[38;5;124m\"\u001b[39m\u001b[38;5;132;01m{\u001b[39;00m\u001b[38;5;28mlist\u001b[39m(labels[mask])\u001b[38;5;132;01m}\u001b[39;00m\u001b[38;5;124m not found in axis\u001b[39m\u001b[38;5;124m\"\u001b[39m)\n\u001b[0;32m   6645\u001b[0m     indexer \u001b[38;5;241m=\u001b[39m indexer[\u001b[38;5;241m~\u001b[39mmask]\n\u001b[0;32m   6646\u001b[0m \u001b[38;5;28;01mreturn\u001b[39;00m \u001b[38;5;28mself\u001b[39m\u001b[38;5;241m.\u001b[39mdelete(indexer)\n",
      "\u001b[1;31mKeyError\u001b[0m: \"['Poster_Link'] not found in axis\""
     ]
    }
   ],
   "source": [
    "movies.drop('Poster_Link', axis=1, inplace=True)\n"
   ]
  },
  {
   "cell_type": "markdown",
   "metadata": {
    "id": "ss6QYp4YRrfY"
   },
   "source": [
    "Set the 'Series_Title' column as the index of dataframe"
   ]
  },
  {
   "cell_type": "code",
   "execution_count": 8,
   "metadata": {
    "id": "iXNaEmTkR3tB"
   },
   "outputs": [
    {
     "data": {
      "text/html": [
       "<div>\n",
       "<style scoped>\n",
       "    .dataframe tbody tr th:only-of-type {\n",
       "        vertical-align: middle;\n",
       "    }\n",
       "\n",
       "    .dataframe tbody tr th {\n",
       "        vertical-align: top;\n",
       "    }\n",
       "\n",
       "    .dataframe thead th {\n",
       "        text-align: right;\n",
       "    }\n",
       "</style>\n",
       "<table border=\"1\" class=\"dataframe\">\n",
       "  <thead>\n",
       "    <tr style=\"text-align: right;\">\n",
       "      <th></th>\n",
       "      <th>Released_Year</th>\n",
       "      <th>Certificate</th>\n",
       "      <th>Runtime</th>\n",
       "      <th>Genre</th>\n",
       "      <th>IMDB_Rating</th>\n",
       "      <th>Overview</th>\n",
       "      <th>Meta_score</th>\n",
       "      <th>Director</th>\n",
       "      <th>Star1</th>\n",
       "      <th>Star2</th>\n",
       "      <th>Star3</th>\n",
       "      <th>Star4</th>\n",
       "      <th>No_of_Votes</th>\n",
       "      <th>Gross</th>\n",
       "    </tr>\n",
       "    <tr>\n",
       "      <th>Series_Title</th>\n",
       "      <th></th>\n",
       "      <th></th>\n",
       "      <th></th>\n",
       "      <th></th>\n",
       "      <th></th>\n",
       "      <th></th>\n",
       "      <th></th>\n",
       "      <th></th>\n",
       "      <th></th>\n",
       "      <th></th>\n",
       "      <th></th>\n",
       "      <th></th>\n",
       "      <th></th>\n",
       "      <th></th>\n",
       "    </tr>\n",
       "  </thead>\n",
       "  <tbody>\n",
       "    <tr>\n",
       "      <th>The Shawshank Redemption</th>\n",
       "      <td>1994</td>\n",
       "      <td>A</td>\n",
       "      <td>142 min</td>\n",
       "      <td>Drama</td>\n",
       "      <td>9.3</td>\n",
       "      <td>Two imprisoned men bond over a number of years...</td>\n",
       "      <td>80.0</td>\n",
       "      <td>Frank Darabont</td>\n",
       "      <td>Tim Robbins</td>\n",
       "      <td>Morgan Freeman</td>\n",
       "      <td>Bob Gunton</td>\n",
       "      <td>William Sadler</td>\n",
       "      <td>2343110</td>\n",
       "      <td>28,341,469</td>\n",
       "    </tr>\n",
       "    <tr>\n",
       "      <th>The Godfather</th>\n",
       "      <td>1972</td>\n",
       "      <td>A</td>\n",
       "      <td>175 min</td>\n",
       "      <td>Crime, Drama</td>\n",
       "      <td>9.2</td>\n",
       "      <td>An organized crime dynasty's aging patriarch t...</td>\n",
       "      <td>100.0</td>\n",
       "      <td>Francis Ford Coppola</td>\n",
       "      <td>Marlon Brando</td>\n",
       "      <td>Al Pacino</td>\n",
       "      <td>James Caan</td>\n",
       "      <td>Diane Keaton</td>\n",
       "      <td>1620367</td>\n",
       "      <td>134,966,411</td>\n",
       "    </tr>\n",
       "    <tr>\n",
       "      <th>The Dark Knight</th>\n",
       "      <td>2008</td>\n",
       "      <td>UA</td>\n",
       "      <td>152 min</td>\n",
       "      <td>Action, Crime, Drama</td>\n",
       "      <td>9.0</td>\n",
       "      <td>When the menace known as the Joker wreaks havo...</td>\n",
       "      <td>84.0</td>\n",
       "      <td>Christopher Nolan</td>\n",
       "      <td>Christian Bale</td>\n",
       "      <td>Heath Ledger</td>\n",
       "      <td>Aaron Eckhart</td>\n",
       "      <td>Michael Caine</td>\n",
       "      <td>2303232</td>\n",
       "      <td>534,858,444</td>\n",
       "    </tr>\n",
       "    <tr>\n",
       "      <th>The Godfather: Part II</th>\n",
       "      <td>1974</td>\n",
       "      <td>A</td>\n",
       "      <td>202 min</td>\n",
       "      <td>Crime, Drama</td>\n",
       "      <td>9.0</td>\n",
       "      <td>The early life and career of Vito Corleone in ...</td>\n",
       "      <td>90.0</td>\n",
       "      <td>Francis Ford Coppola</td>\n",
       "      <td>Al Pacino</td>\n",
       "      <td>Robert De Niro</td>\n",
       "      <td>Robert Duvall</td>\n",
       "      <td>Diane Keaton</td>\n",
       "      <td>1129952</td>\n",
       "      <td>57,300,000</td>\n",
       "    </tr>\n",
       "    <tr>\n",
       "      <th>12 Angry Men</th>\n",
       "      <td>1957</td>\n",
       "      <td>U</td>\n",
       "      <td>96 min</td>\n",
       "      <td>Crime, Drama</td>\n",
       "      <td>9.0</td>\n",
       "      <td>A jury holdout attempts to prevent a miscarria...</td>\n",
       "      <td>96.0</td>\n",
       "      <td>Sidney Lumet</td>\n",
       "      <td>Henry Fonda</td>\n",
       "      <td>Lee J. Cobb</td>\n",
       "      <td>Martin Balsam</td>\n",
       "      <td>John Fiedler</td>\n",
       "      <td>689845</td>\n",
       "      <td>4,360,000</td>\n",
       "    </tr>\n",
       "    <tr>\n",
       "      <th>...</th>\n",
       "      <td>...</td>\n",
       "      <td>...</td>\n",
       "      <td>...</td>\n",
       "      <td>...</td>\n",
       "      <td>...</td>\n",
       "      <td>...</td>\n",
       "      <td>...</td>\n",
       "      <td>...</td>\n",
       "      <td>...</td>\n",
       "      <td>...</td>\n",
       "      <td>...</td>\n",
       "      <td>...</td>\n",
       "      <td>...</td>\n",
       "      <td>...</td>\n",
       "    </tr>\n",
       "    <tr>\n",
       "      <th>Breakfast at Tiffany's</th>\n",
       "      <td>1961</td>\n",
       "      <td>A</td>\n",
       "      <td>115 min</td>\n",
       "      <td>Comedy, Drama, Romance</td>\n",
       "      <td>7.6</td>\n",
       "      <td>A young New York socialite becomes interested ...</td>\n",
       "      <td>76.0</td>\n",
       "      <td>Blake Edwards</td>\n",
       "      <td>Audrey Hepburn</td>\n",
       "      <td>George Peppard</td>\n",
       "      <td>Patricia Neal</td>\n",
       "      <td>Buddy Ebsen</td>\n",
       "      <td>166544</td>\n",
       "      <td>NaN</td>\n",
       "    </tr>\n",
       "    <tr>\n",
       "      <th>Giant</th>\n",
       "      <td>1956</td>\n",
       "      <td>G</td>\n",
       "      <td>201 min</td>\n",
       "      <td>Drama, Western</td>\n",
       "      <td>7.6</td>\n",
       "      <td>Sprawling epic covering the life of a Texas ca...</td>\n",
       "      <td>84.0</td>\n",
       "      <td>George Stevens</td>\n",
       "      <td>Elizabeth Taylor</td>\n",
       "      <td>Rock Hudson</td>\n",
       "      <td>James Dean</td>\n",
       "      <td>Carroll Baker</td>\n",
       "      <td>34075</td>\n",
       "      <td>NaN</td>\n",
       "    </tr>\n",
       "    <tr>\n",
       "      <th>From Here to Eternity</th>\n",
       "      <td>1953</td>\n",
       "      <td>Passed</td>\n",
       "      <td>118 min</td>\n",
       "      <td>Drama, Romance, War</td>\n",
       "      <td>7.6</td>\n",
       "      <td>In Hawaii in 1941, a private is cruelly punish...</td>\n",
       "      <td>85.0</td>\n",
       "      <td>Fred Zinnemann</td>\n",
       "      <td>Burt Lancaster</td>\n",
       "      <td>Montgomery Clift</td>\n",
       "      <td>Deborah Kerr</td>\n",
       "      <td>Donna Reed</td>\n",
       "      <td>43374</td>\n",
       "      <td>30,500,000</td>\n",
       "    </tr>\n",
       "    <tr>\n",
       "      <th>Lifeboat</th>\n",
       "      <td>1944</td>\n",
       "      <td>NaN</td>\n",
       "      <td>97 min</td>\n",
       "      <td>Drama, War</td>\n",
       "      <td>7.6</td>\n",
       "      <td>Several survivors of a torpedoed merchant ship...</td>\n",
       "      <td>78.0</td>\n",
       "      <td>Alfred Hitchcock</td>\n",
       "      <td>Tallulah Bankhead</td>\n",
       "      <td>John Hodiak</td>\n",
       "      <td>Walter Slezak</td>\n",
       "      <td>William Bendix</td>\n",
       "      <td>26471</td>\n",
       "      <td>NaN</td>\n",
       "    </tr>\n",
       "    <tr>\n",
       "      <th>The 39 Steps</th>\n",
       "      <td>1935</td>\n",
       "      <td>NaN</td>\n",
       "      <td>86 min</td>\n",
       "      <td>Crime, Mystery, Thriller</td>\n",
       "      <td>7.6</td>\n",
       "      <td>A man in London tries to help a counter-espion...</td>\n",
       "      <td>93.0</td>\n",
       "      <td>Alfred Hitchcock</td>\n",
       "      <td>Robert Donat</td>\n",
       "      <td>Madeleine Carroll</td>\n",
       "      <td>Lucie Mannheim</td>\n",
       "      <td>Godfrey Tearle</td>\n",
       "      <td>51853</td>\n",
       "      <td>NaN</td>\n",
       "    </tr>\n",
       "  </tbody>\n",
       "</table>\n",
       "<p>1000 rows × 14 columns</p>\n",
       "</div>"
      ],
      "text/plain": [
       "                         Released_Year Certificate  Runtime  \\\n",
       "Series_Title                                                  \n",
       "The Shawshank Redemption          1994           A  142 min   \n",
       "The Godfather                     1972           A  175 min   \n",
       "The Dark Knight                   2008          UA  152 min   \n",
       "The Godfather: Part II            1974           A  202 min   \n",
       "12 Angry Men                      1957           U   96 min   \n",
       "...                                ...         ...      ...   \n",
       "Breakfast at Tiffany's            1961           A  115 min   \n",
       "Giant                             1956           G  201 min   \n",
       "From Here to Eternity             1953      Passed  118 min   \n",
       "Lifeboat                          1944         NaN   97 min   \n",
       "The 39 Steps                      1935         NaN   86 min   \n",
       "\n",
       "                                             Genre  IMDB_Rating  \\\n",
       "Series_Title                                                      \n",
       "The Shawshank Redemption                     Drama          9.3   \n",
       "The Godfather                         Crime, Drama          9.2   \n",
       "The Dark Knight               Action, Crime, Drama          9.0   \n",
       "The Godfather: Part II                Crime, Drama          9.0   \n",
       "12 Angry Men                          Crime, Drama          9.0   \n",
       "...                                            ...          ...   \n",
       "Breakfast at Tiffany's      Comedy, Drama, Romance          7.6   \n",
       "Giant                               Drama, Western          7.6   \n",
       "From Here to Eternity          Drama, Romance, War          7.6   \n",
       "Lifeboat                                Drama, War          7.6   \n",
       "The 39 Steps              Crime, Mystery, Thriller          7.6   \n",
       "\n",
       "                                                                   Overview  \\\n",
       "Series_Title                                                                  \n",
       "The Shawshank Redemption  Two imprisoned men bond over a number of years...   \n",
       "The Godfather             An organized crime dynasty's aging patriarch t...   \n",
       "The Dark Knight           When the menace known as the Joker wreaks havo...   \n",
       "The Godfather: Part II    The early life and career of Vito Corleone in ...   \n",
       "12 Angry Men              A jury holdout attempts to prevent a miscarria...   \n",
       "...                                                                     ...   \n",
       "Breakfast at Tiffany's    A young New York socialite becomes interested ...   \n",
       "Giant                     Sprawling epic covering the life of a Texas ca...   \n",
       "From Here to Eternity     In Hawaii in 1941, a private is cruelly punish...   \n",
       "Lifeboat                  Several survivors of a torpedoed merchant ship...   \n",
       "The 39 Steps              A man in London tries to help a counter-espion...   \n",
       "\n",
       "                          Meta_score              Director              Star1  \\\n",
       "Series_Title                                                                    \n",
       "The Shawshank Redemption        80.0        Frank Darabont        Tim Robbins   \n",
       "The Godfather                  100.0  Francis Ford Coppola      Marlon Brando   \n",
       "The Dark Knight                 84.0     Christopher Nolan     Christian Bale   \n",
       "The Godfather: Part II          90.0  Francis Ford Coppola          Al Pacino   \n",
       "12 Angry Men                    96.0          Sidney Lumet        Henry Fonda   \n",
       "...                              ...                   ...                ...   \n",
       "Breakfast at Tiffany's          76.0         Blake Edwards     Audrey Hepburn   \n",
       "Giant                           84.0        George Stevens   Elizabeth Taylor   \n",
       "From Here to Eternity           85.0        Fred Zinnemann     Burt Lancaster   \n",
       "Lifeboat                        78.0      Alfred Hitchcock  Tallulah Bankhead   \n",
       "The 39 Steps                    93.0      Alfred Hitchcock       Robert Donat   \n",
       "\n",
       "                                      Star2           Star3           Star4  \\\n",
       "Series_Title                                                                  \n",
       "The Shawshank Redemption     Morgan Freeman      Bob Gunton  William Sadler   \n",
       "The Godfather                     Al Pacino      James Caan    Diane Keaton   \n",
       "The Dark Knight                Heath Ledger   Aaron Eckhart   Michael Caine   \n",
       "The Godfather: Part II       Robert De Niro   Robert Duvall    Diane Keaton   \n",
       "12 Angry Men                    Lee J. Cobb   Martin Balsam    John Fiedler   \n",
       "...                                     ...             ...             ...   \n",
       "Breakfast at Tiffany's       George Peppard   Patricia Neal     Buddy Ebsen   \n",
       "Giant                           Rock Hudson      James Dean   Carroll Baker   \n",
       "From Here to Eternity      Montgomery Clift    Deborah Kerr      Donna Reed   \n",
       "Lifeboat                        John Hodiak   Walter Slezak  William Bendix   \n",
       "The 39 Steps              Madeleine Carroll  Lucie Mannheim  Godfrey Tearle   \n",
       "\n",
       "                          No_of_Votes        Gross  \n",
       "Series_Title                                        \n",
       "The Shawshank Redemption      2343110   28,341,469  \n",
       "The Godfather                 1620367  134,966,411  \n",
       "The Dark Knight               2303232  534,858,444  \n",
       "The Godfather: Part II        1129952   57,300,000  \n",
       "12 Angry Men                   689845    4,360,000  \n",
       "...                               ...          ...  \n",
       "Breakfast at Tiffany's         166544          NaN  \n",
       "Giant                           34075          NaN  \n",
       "From Here to Eternity           43374   30,500,000  \n",
       "Lifeboat                        26471          NaN  \n",
       "The 39 Steps                    51853          NaN  \n",
       "\n",
       "[1000 rows x 14 columns]"
      ]
     },
     "execution_count": 8,
     "metadata": {},
     "output_type": "execute_result"
    }
   ],
   "source": [
    "movies.set_index('Series_Title')"
   ]
  },
  {
   "cell_type": "markdown",
   "metadata": {
    "id": "f6cj49w0R4PS"
   },
   "source": [
    "Print a list of all the unique Genre"
   ]
  },
  {
   "cell_type": "code",
   "execution_count": 9,
   "metadata": {
    "id": "CO4kbBsySVjr"
   },
   "outputs": [
    {
     "data": {
      "text/plain": [
       "array(['Drama', 'Crime, Drama', 'Action, Crime, Drama',\n",
       "       'Action, Adventure, Drama', 'Biography, Drama, History',\n",
       "       'Action, Adventure, Sci-Fi', 'Drama, Romance', 'Western',\n",
       "       'Action, Sci-Fi', 'Biography, Crime, Drama',\n",
       "       'Action, Adventure, Fantasy', 'Comedy, Drama, Thriller',\n",
       "       'Adventure, Drama, Sci-Fi', 'Animation, Adventure, Family',\n",
       "       'Drama, War', 'Crime, Drama, Fantasy', 'Comedy, Drama, Romance',\n",
       "       'Crime, Drama, Mystery', 'Crime, Drama, Thriller',\n",
       "       'Action, Drama, Mystery', 'Drama, Family, Fantasy', 'Drama, Music',\n",
       "       'Biography, Comedy, Drama', 'Drama, Mystery, Sci-Fi',\n",
       "       'Biography, Drama, Music', 'Crime, Mystery, Thriller',\n",
       "       'Animation, Adventure, Drama', 'Animation, Drama, War',\n",
       "       'Adventure, Comedy, Sci-Fi', 'Horror, Mystery, Thriller',\n",
       "       'Drama, Romance, War', 'Comedy, Drama, Family',\n",
       "       'Animation, Drama, Fantasy', 'Action, Biography, Drama',\n",
       "       'Animation, Action, Adventure', 'Drama, Western',\n",
       "       'Action, Adventure', 'Comedy, Drama', 'Drama, Family',\n",
       "       'Drama, Mystery, Thriller', 'Mystery, Thriller', 'Drama, Horror',\n",
       "       'Drama, Mystery, War', 'Horror, Sci-Fi', 'Drama, Musical',\n",
       "       'Comedy', 'Drama, Film-Noir', 'Comedy, Drama, War',\n",
       "       'Drama, Thriller, War', 'Drama, Fantasy, Horror',\n",
       "       'Crime, Drama, Music', 'Adventure, Drama, War',\n",
       "       'Drama, Romance, Sci-Fi', 'Comedy, Romance', 'Comedy, Crime',\n",
       "       'Drama, Family, Sport', 'Animation, Adventure, Comedy',\n",
       "       'Adventure, Drama, Thriller', 'Comedy, Crime, Drama',\n",
       "       'Crime, Drama, Sci-Fi', 'Adventure, Sci-Fi',\n",
       "       'Adventure, Biography, Drama', 'Adventure, Mystery, Thriller',\n",
       "       'Mystery, Romance, Thriller', 'Comedy, Musical, Romance',\n",
       "       'Crime, Drama, Film-Noir', 'Drama, Mystery', 'Drama, Sci-Fi',\n",
       "       'Action, Drama, War', 'Action, Drama', 'Adventure, Comedy, Drama',\n",
       "       'Biography, Drama, Sport', 'Action, Comedy, Crime',\n",
       "       'Action, Biography, Crime', 'Drama, Mystery, Romance',\n",
       "       'Action, Drama, Sport', 'Drama, Fantasy, War',\n",
       "       'Action, Drama, Sci-Fi', 'Biography, Drama',\n",
       "       'Action, Comedy, Romance', 'Animation, Family, Fantasy',\n",
       "       'Action, Thriller', 'Action, Adventure, Comedy',\n",
       "       'Adventure, Comedy, Fantasy', 'Adventure, Drama, History',\n",
       "       'Action, Drama, Thriller', 'Comedy, Music, Romance',\n",
       "       'Drama, Fantasy, History', 'Crime, Thriller',\n",
       "       'Adventure, Drama, Western', 'Comedy, War', 'Drama, Thriller',\n",
       "       'Animation, Drama, Family', 'Drama, Romance, Thriller',\n",
       "       'Comedy, Drama, Musical', 'Comedy, Drama, Fantasy',\n",
       "       'Adventure, Comedy, Crime', 'Adventure, Drama, Fantasy',\n",
       "       'Biography, Drama, Family', 'Animation, Comedy, Drama',\n",
       "       'Drama, Sport', 'Animation, Action, Drama',\n",
       "       'Adventure, Drama, Musical', 'Drama, Music, Romance',\n",
       "       'Comedy, Crime, Romance', 'Comedy, Crime, Sport',\n",
       "       'Drama, History, Romance', 'Adventure, Drama',\n",
       "       'Animation, Adventure, Fantasy', 'Horror, Mystery, Sci-Fi',\n",
       "       'Drama, Fantasy, Music', 'Action, Sci-Fi, Thriller',\n",
       "       'Drama, Fantasy', 'Drama, Horror, Thriller', 'Drama, History',\n",
       "       'Film-Noir, Mystery, Thriller', 'Fantasy, Horror, Mystery',\n",
       "       'Action, Crime, Thriller', 'Comedy, Drama, Music',\n",
       "       'Biography, Drama, Thriller', 'Animation, Biography, Drama',\n",
       "       'Action, Mystery, Thriller', 'Crime, Drama, Romance',\n",
       "       'Action, Adventure, Thriller', 'Crime, Drama, Musical',\n",
       "       'Animation, Crime, Mystery', 'Action, Crime, Comedy',\n",
       "       'Mystery, Sci-Fi, Thriller', 'Animation, Action, Crime',\n",
       "       'Comedy, Fantasy, Romance', 'Drama, History, Thriller',\n",
       "       'Animation, Action, Sci-Fi', 'Adventure, Family, Fantasy',\n",
       "       'Drama, Fantasy, Romance', 'Drama, History, War',\n",
       "       'Adventure, Thriller', 'Horror', 'Drama, Family, Musical',\n",
       "       'Action, Drama, Western', 'Crime, Drama, Horror',\n",
       "       'Drama, Film-Noir, Mystery', 'Comedy, Crime, Thriller',\n",
       "       'Film-Noir, Mystery', 'Comedy, Crime, Mystery',\n",
       "       'Drama, Fantasy, Mystery', 'Comedy, Horror',\n",
       "       'Action, Adventure, History', 'Drama, Music, Mystery',\n",
       "       'Comedy, Music', 'Comedy, Family', 'Drama, Music, Musical',\n",
       "       'Action, Adventure, Horror', 'Action, Adventure, Biography',\n",
       "       'Biography, Drama, War', 'Action, Adventure, Western',\n",
       "       'Horror, Thriller', 'Comedy, Mystery, Romance',\n",
       "       'Drama, Thriller, Western', 'Crime, Film-Noir, Thriller',\n",
       "       'Drama, Film-Noir, Romance', 'Crime, Film-Noir, Mystery',\n",
       "       'Action, Adventure, Romance', 'Comedy, Music, Musical',\n",
       "       'Adventure, Horror, Sci-Fi', 'Fantasy, Horror',\n",
       "       'Action, Drama, History', 'Adventure, Comedy, Family',\n",
       "       'Animation, Biography, Crime', 'Adventure, Biography, Crime',\n",
       "       'Adventure, Fantasy', 'Drama, History, Mystery',\n",
       "       'Action, Comedy, Mystery', 'Adventure, Drama, Romance',\n",
       "       'Drama, Sci-Fi, Thriller', 'Crime, Drama, History',\n",
       "       'Action, Comedy, Fantasy', 'Family, Sci-Fi',\n",
       "       'Adventure, History, War', 'Animation, Sci-Fi',\n",
       "       'Family, Fantasy, Musical', 'Thriller', 'Comedy, Family, Fantasy',\n",
       "       'Adventure, Comedy, Film-Noir', 'Film-Noir, Thriller',\n",
       "       'Comedy, Family, Romance', 'Drama, Horror, Sci-Fi',\n",
       "       'Comedy, Musical, War', 'Biography, Drama, Romance',\n",
       "       'Drama, History, Music', 'Animation, Action, Fantasy',\n",
       "       'Animation, Comedy, Fantasy', 'Comedy, Western',\n",
       "       'Action, Adventure, War', 'Drama, Horror, Mystery',\n",
       "       'Animation, Comedy, Crime', 'Action, Adventure, Crime',\n",
       "       'Action, Adventure, Mystery', 'Action, Adventure, Family',\n",
       "       'Action, Crime, Mystery', 'Animation, Drama, Romance',\n",
       "       'Drama, War, Western', 'Adventure, Comedy, War'], dtype=object)"
      ]
     },
     "execution_count": 9,
     "metadata": {},
     "output_type": "execute_result"
    }
   ],
   "source": [
    "movies['Genre'].unique()"
   ]
  },
  {
   "cell_type": "markdown",
   "metadata": {
    "id": "Dfj_ZoVBS97W"
   },
   "source": [
    "1. What is the Number of Directors in the given dataset ? "
   ]
  },
  {
   "cell_type": "code",
   "execution_count": 23,
   "metadata": {
    "id": "92f8NLciTIU_"
   },
   "outputs": [
    {
     "data": {
      "text/plain": [
       "1000"
      ]
     },
     "execution_count": 23,
     "metadata": {},
     "output_type": "execute_result"
    }
   ],
   "source": [
    "movies['Director'].count()"
   ]
  },
  {
   "cell_type": "markdown",
   "metadata": {
    "id": "5UnvBViyTOc9"
   },
   "source": [
    "2. What is the mean, median and standard deviation of IMDB rating in the dataset ?"
   ]
  },
  {
   "cell_type": "code",
   "execution_count": 24,
   "metadata": {
    "id": "sOL7O83LTg30"
   },
   "outputs": [
    {
     "data": {
      "text/html": [
       "<div>\n",
       "<style scoped>\n",
       "    .dataframe tbody tr th:only-of-type {\n",
       "        vertical-align: middle;\n",
       "    }\n",
       "\n",
       "    .dataframe tbody tr th {\n",
       "        vertical-align: top;\n",
       "    }\n",
       "\n",
       "    .dataframe thead th {\n",
       "        text-align: right;\n",
       "    }\n",
       "</style>\n",
       "<table border=\"1\" class=\"dataframe\">\n",
       "  <thead>\n",
       "    <tr style=\"text-align: right;\">\n",
       "      <th></th>\n",
       "      <th>IMDB_Rating</th>\n",
       "      <th>Meta_score</th>\n",
       "      <th>No_of_Votes</th>\n",
       "    </tr>\n",
       "  </thead>\n",
       "  <tbody>\n",
       "    <tr>\n",
       "      <th>count</th>\n",
       "      <td>1000.000000</td>\n",
       "      <td>843.000000</td>\n",
       "      <td>1.000000e+03</td>\n",
       "    </tr>\n",
       "    <tr>\n",
       "      <th>mean</th>\n",
       "      <td>7.949300</td>\n",
       "      <td>77.971530</td>\n",
       "      <td>2.736929e+05</td>\n",
       "    </tr>\n",
       "    <tr>\n",
       "      <th>std</th>\n",
       "      <td>0.275491</td>\n",
       "      <td>12.376099</td>\n",
       "      <td>3.273727e+05</td>\n",
       "    </tr>\n",
       "    <tr>\n",
       "      <th>min</th>\n",
       "      <td>7.600000</td>\n",
       "      <td>28.000000</td>\n",
       "      <td>2.508800e+04</td>\n",
       "    </tr>\n",
       "    <tr>\n",
       "      <th>25%</th>\n",
       "      <td>7.700000</td>\n",
       "      <td>70.000000</td>\n",
       "      <td>5.552625e+04</td>\n",
       "    </tr>\n",
       "    <tr>\n",
       "      <th>50%</th>\n",
       "      <td>7.900000</td>\n",
       "      <td>79.000000</td>\n",
       "      <td>1.385485e+05</td>\n",
       "    </tr>\n",
       "    <tr>\n",
       "      <th>75%</th>\n",
       "      <td>8.100000</td>\n",
       "      <td>87.000000</td>\n",
       "      <td>3.741612e+05</td>\n",
       "    </tr>\n",
       "    <tr>\n",
       "      <th>max</th>\n",
       "      <td>9.300000</td>\n",
       "      <td>100.000000</td>\n",
       "      <td>2.343110e+06</td>\n",
       "    </tr>\n",
       "  </tbody>\n",
       "</table>\n",
       "</div>"
      ],
      "text/plain": [
       "       IMDB_Rating  Meta_score   No_of_Votes\n",
       "count  1000.000000  843.000000  1.000000e+03\n",
       "mean      7.949300   77.971530  2.736929e+05\n",
       "std       0.275491   12.376099  3.273727e+05\n",
       "min       7.600000   28.000000  2.508800e+04\n",
       "25%       7.700000   70.000000  5.552625e+04\n",
       "50%       7.900000   79.000000  1.385485e+05\n",
       "75%       8.100000   87.000000  3.741612e+05\n",
       "max       9.300000  100.000000  2.343110e+06"
      ]
     },
     "execution_count": 24,
     "metadata": {},
     "output_type": "execute_result"
    }
   ],
   "source": [
    "movies.describe()"
   ]
  },
  {
   "cell_type": "markdown",
   "metadata": {
    "id": "d_k1zoajTxyx"
   },
   "source": [
    "3. Which director has directed the most number of movies?"
   ]
  },
  {
   "cell_type": "code",
   "execution_count": 28,
   "metadata": {
    "id": "-gvnNqSsT88L"
   },
   "outputs": [
    {
     "data": {
      "text/plain": [
       "'Ömer Faruk Sorak'"
      ]
     },
     "execution_count": 28,
     "metadata": {},
     "output_type": "execute_result"
    }
   ],
   "source": [
    "movies.Director.max()"
   ]
  },
  {
   "cell_type": "markdown",
   "metadata": {
    "id": "zGHeeFZnT-yx"
   },
   "source": [
    "4. Name the Movie which has the highest Runtime ?"
   ]
  },
  {
   "cell_type": "code",
   "execution_count": 43,
   "metadata": {
    "id": "-1BAOzXoUKL1"
   },
   "outputs": [
    {
     "data": {
      "text/plain": [
       "RangeIndex(start=0, stop=1000, step=1)"
      ]
     },
     "execution_count": 43,
     "metadata": {},
     "output_type": "execute_result"
    }
   ],
   "source": [
    "movies.index"
   ]
  },
  {
   "cell_type": "markdown",
   "metadata": {
    "id": "ast-zD1gULUS"
   },
   "source": [
    "5. How many movies are released after year 2000 and have IMDB rating > 8.5 ?"
   ]
  },
  {
   "cell_type": "code",
   "execution_count": 47,
   "metadata": {
    "id": "2SA7L3G-VLom"
   },
   "outputs": [
    {
     "ename": "ValueError",
     "evalue": "invalid literal for int() with base 10: 'PG'",
     "output_type": "error",
     "traceback": [
      "\u001b[1;31m---------------------------------------------------------------------------\u001b[0m",
      "\u001b[1;31mValueError\u001b[0m                                Traceback (most recent call last)",
      "Input \u001b[1;32mIn [47]\u001b[0m, in \u001b[0;36m<cell line: 2>\u001b[1;34m()\u001b[0m\n\u001b[0;32m      1\u001b[0m movies\u001b[38;5;241m.\u001b[39mReleased_Year\u001b[38;5;241m.\u001b[39mdtype\n\u001b[1;32m----> 2\u001b[0m movies[\u001b[38;5;124m'\u001b[39m\u001b[38;5;124mReleased_Year\u001b[39m\u001b[38;5;124m'\u001b[39m] \u001b[38;5;241m=\u001b[39m \u001b[43mmovies\u001b[49m\u001b[43m[\u001b[49m\u001b[38;5;124;43m'\u001b[39;49m\u001b[38;5;124;43mReleased_Year\u001b[39;49m\u001b[38;5;124;43m'\u001b[39;49m\u001b[43m]\u001b[49m\u001b[38;5;241;43m.\u001b[39;49m\u001b[43mastype\u001b[49m\u001b[43m(\u001b[49m\u001b[38;5;28;43mint\u001b[39;49m\u001b[43m)\u001b[49m\n",
      "File \u001b[1;32mC:\\ProgramData\\Anaconda3\\lib\\site-packages\\pandas\\core\\generic.py:5912\u001b[0m, in \u001b[0;36mNDFrame.astype\u001b[1;34m(self, dtype, copy, errors)\u001b[0m\n\u001b[0;32m   5905\u001b[0m     results \u001b[38;5;241m=\u001b[39m [\n\u001b[0;32m   5906\u001b[0m         \u001b[38;5;28mself\u001b[39m\u001b[38;5;241m.\u001b[39miloc[:, i]\u001b[38;5;241m.\u001b[39mastype(dtype, copy\u001b[38;5;241m=\u001b[39mcopy)\n\u001b[0;32m   5907\u001b[0m         \u001b[38;5;28;01mfor\u001b[39;00m i \u001b[38;5;129;01min\u001b[39;00m \u001b[38;5;28mrange\u001b[39m(\u001b[38;5;28mlen\u001b[39m(\u001b[38;5;28mself\u001b[39m\u001b[38;5;241m.\u001b[39mcolumns))\n\u001b[0;32m   5908\u001b[0m     ]\n\u001b[0;32m   5910\u001b[0m \u001b[38;5;28;01melse\u001b[39;00m:\n\u001b[0;32m   5911\u001b[0m     \u001b[38;5;66;03m# else, only a single dtype is given\u001b[39;00m\n\u001b[1;32m-> 5912\u001b[0m     new_data \u001b[38;5;241m=\u001b[39m \u001b[38;5;28;43mself\u001b[39;49m\u001b[38;5;241;43m.\u001b[39;49m\u001b[43m_mgr\u001b[49m\u001b[38;5;241;43m.\u001b[39;49m\u001b[43mastype\u001b[49m\u001b[43m(\u001b[49m\u001b[43mdtype\u001b[49m\u001b[38;5;241;43m=\u001b[39;49m\u001b[43mdtype\u001b[49m\u001b[43m,\u001b[49m\u001b[43m \u001b[49m\u001b[43mcopy\u001b[49m\u001b[38;5;241;43m=\u001b[39;49m\u001b[43mcopy\u001b[49m\u001b[43m,\u001b[49m\u001b[43m \u001b[49m\u001b[43merrors\u001b[49m\u001b[38;5;241;43m=\u001b[39;49m\u001b[43merrors\u001b[49m\u001b[43m)\u001b[49m\n\u001b[0;32m   5913\u001b[0m     \u001b[38;5;28;01mreturn\u001b[39;00m \u001b[38;5;28mself\u001b[39m\u001b[38;5;241m.\u001b[39m_constructor(new_data)\u001b[38;5;241m.\u001b[39m__finalize__(\u001b[38;5;28mself\u001b[39m, method\u001b[38;5;241m=\u001b[39m\u001b[38;5;124m\"\u001b[39m\u001b[38;5;124mastype\u001b[39m\u001b[38;5;124m\"\u001b[39m)\n\u001b[0;32m   5915\u001b[0m \u001b[38;5;66;03m# GH 33113: handle empty frame or series\u001b[39;00m\n",
      "File \u001b[1;32mC:\\ProgramData\\Anaconda3\\lib\\site-packages\\pandas\\core\\internals\\managers.py:419\u001b[0m, in \u001b[0;36mBaseBlockManager.astype\u001b[1;34m(self, dtype, copy, errors)\u001b[0m\n\u001b[0;32m    418\u001b[0m \u001b[38;5;28;01mdef\u001b[39;00m \u001b[38;5;21mastype\u001b[39m(\u001b[38;5;28mself\u001b[39m: T, dtype, copy: \u001b[38;5;28mbool\u001b[39m \u001b[38;5;241m=\u001b[39m \u001b[38;5;28;01mFalse\u001b[39;00m, errors: \u001b[38;5;28mstr\u001b[39m \u001b[38;5;241m=\u001b[39m \u001b[38;5;124m\"\u001b[39m\u001b[38;5;124mraise\u001b[39m\u001b[38;5;124m\"\u001b[39m) \u001b[38;5;241m-\u001b[39m\u001b[38;5;241m>\u001b[39m T:\n\u001b[1;32m--> 419\u001b[0m     \u001b[38;5;28;01mreturn\u001b[39;00m \u001b[38;5;28;43mself\u001b[39;49m\u001b[38;5;241;43m.\u001b[39;49m\u001b[43mapply\u001b[49m\u001b[43m(\u001b[49m\u001b[38;5;124;43m\"\u001b[39;49m\u001b[38;5;124;43mastype\u001b[39;49m\u001b[38;5;124;43m\"\u001b[39;49m\u001b[43m,\u001b[49m\u001b[43m \u001b[49m\u001b[43mdtype\u001b[49m\u001b[38;5;241;43m=\u001b[39;49m\u001b[43mdtype\u001b[49m\u001b[43m,\u001b[49m\u001b[43m \u001b[49m\u001b[43mcopy\u001b[49m\u001b[38;5;241;43m=\u001b[39;49m\u001b[43mcopy\u001b[49m\u001b[43m,\u001b[49m\u001b[43m \u001b[49m\u001b[43merrors\u001b[49m\u001b[38;5;241;43m=\u001b[39;49m\u001b[43merrors\u001b[49m\u001b[43m)\u001b[49m\n",
      "File \u001b[1;32mC:\\ProgramData\\Anaconda3\\lib\\site-packages\\pandas\\core\\internals\\managers.py:304\u001b[0m, in \u001b[0;36mBaseBlockManager.apply\u001b[1;34m(self, f, align_keys, ignore_failures, **kwargs)\u001b[0m\n\u001b[0;32m    302\u001b[0m         applied \u001b[38;5;241m=\u001b[39m b\u001b[38;5;241m.\u001b[39mapply(f, \u001b[38;5;241m*\u001b[39m\u001b[38;5;241m*\u001b[39mkwargs)\n\u001b[0;32m    303\u001b[0m     \u001b[38;5;28;01melse\u001b[39;00m:\n\u001b[1;32m--> 304\u001b[0m         applied \u001b[38;5;241m=\u001b[39m \u001b[38;5;28mgetattr\u001b[39m(b, f)(\u001b[38;5;241m*\u001b[39m\u001b[38;5;241m*\u001b[39mkwargs)\n\u001b[0;32m    305\u001b[0m \u001b[38;5;28;01mexcept\u001b[39;00m (\u001b[38;5;167;01mTypeError\u001b[39;00m, \u001b[38;5;167;01mNotImplementedError\u001b[39;00m):\n\u001b[0;32m    306\u001b[0m     \u001b[38;5;28;01mif\u001b[39;00m \u001b[38;5;129;01mnot\u001b[39;00m ignore_failures:\n",
      "File \u001b[1;32mC:\\ProgramData\\Anaconda3\\lib\\site-packages\\pandas\\core\\internals\\blocks.py:580\u001b[0m, in \u001b[0;36mBlock.astype\u001b[1;34m(self, dtype, copy, errors)\u001b[0m\n\u001b[0;32m    562\u001b[0m \u001b[38;5;124;03m\"\"\"\u001b[39;00m\n\u001b[0;32m    563\u001b[0m \u001b[38;5;124;03mCoerce to the new dtype.\u001b[39;00m\n\u001b[0;32m    564\u001b[0m \n\u001b[1;32m   (...)\u001b[0m\n\u001b[0;32m    576\u001b[0m \u001b[38;5;124;03mBlock\u001b[39;00m\n\u001b[0;32m    577\u001b[0m \u001b[38;5;124;03m\"\"\"\u001b[39;00m\n\u001b[0;32m    578\u001b[0m values \u001b[38;5;241m=\u001b[39m \u001b[38;5;28mself\u001b[39m\u001b[38;5;241m.\u001b[39mvalues\n\u001b[1;32m--> 580\u001b[0m new_values \u001b[38;5;241m=\u001b[39m \u001b[43mastype_array_safe\u001b[49m\u001b[43m(\u001b[49m\u001b[43mvalues\u001b[49m\u001b[43m,\u001b[49m\u001b[43m \u001b[49m\u001b[43mdtype\u001b[49m\u001b[43m,\u001b[49m\u001b[43m \u001b[49m\u001b[43mcopy\u001b[49m\u001b[38;5;241;43m=\u001b[39;49m\u001b[43mcopy\u001b[49m\u001b[43m,\u001b[49m\u001b[43m \u001b[49m\u001b[43merrors\u001b[49m\u001b[38;5;241;43m=\u001b[39;49m\u001b[43merrors\u001b[49m\u001b[43m)\u001b[49m\n\u001b[0;32m    582\u001b[0m new_values \u001b[38;5;241m=\u001b[39m maybe_coerce_values(new_values)\n\u001b[0;32m    583\u001b[0m newb \u001b[38;5;241m=\u001b[39m \u001b[38;5;28mself\u001b[39m\u001b[38;5;241m.\u001b[39mmake_block(new_values)\n",
      "File \u001b[1;32mC:\\ProgramData\\Anaconda3\\lib\\site-packages\\pandas\\core\\dtypes\\cast.py:1292\u001b[0m, in \u001b[0;36mastype_array_safe\u001b[1;34m(values, dtype, copy, errors)\u001b[0m\n\u001b[0;32m   1289\u001b[0m     dtype \u001b[38;5;241m=\u001b[39m dtype\u001b[38;5;241m.\u001b[39mnumpy_dtype\n\u001b[0;32m   1291\u001b[0m \u001b[38;5;28;01mtry\u001b[39;00m:\n\u001b[1;32m-> 1292\u001b[0m     new_values \u001b[38;5;241m=\u001b[39m \u001b[43mastype_array\u001b[49m\u001b[43m(\u001b[49m\u001b[43mvalues\u001b[49m\u001b[43m,\u001b[49m\u001b[43m \u001b[49m\u001b[43mdtype\u001b[49m\u001b[43m,\u001b[49m\u001b[43m \u001b[49m\u001b[43mcopy\u001b[49m\u001b[38;5;241;43m=\u001b[39;49m\u001b[43mcopy\u001b[49m\u001b[43m)\u001b[49m\n\u001b[0;32m   1293\u001b[0m \u001b[38;5;28;01mexcept\u001b[39;00m (\u001b[38;5;167;01mValueError\u001b[39;00m, \u001b[38;5;167;01mTypeError\u001b[39;00m):\n\u001b[0;32m   1294\u001b[0m     \u001b[38;5;66;03m# e.g. astype_nansafe can fail on object-dtype of strings\u001b[39;00m\n\u001b[0;32m   1295\u001b[0m     \u001b[38;5;66;03m#  trying to convert to float\u001b[39;00m\n\u001b[0;32m   1296\u001b[0m     \u001b[38;5;28;01mif\u001b[39;00m errors \u001b[38;5;241m==\u001b[39m \u001b[38;5;124m\"\u001b[39m\u001b[38;5;124mignore\u001b[39m\u001b[38;5;124m\"\u001b[39m:\n",
      "File \u001b[1;32mC:\\ProgramData\\Anaconda3\\lib\\site-packages\\pandas\\core\\dtypes\\cast.py:1237\u001b[0m, in \u001b[0;36mastype_array\u001b[1;34m(values, dtype, copy)\u001b[0m\n\u001b[0;32m   1234\u001b[0m     values \u001b[38;5;241m=\u001b[39m values\u001b[38;5;241m.\u001b[39mastype(dtype, copy\u001b[38;5;241m=\u001b[39mcopy)\n\u001b[0;32m   1236\u001b[0m \u001b[38;5;28;01melse\u001b[39;00m:\n\u001b[1;32m-> 1237\u001b[0m     values \u001b[38;5;241m=\u001b[39m \u001b[43mastype_nansafe\u001b[49m\u001b[43m(\u001b[49m\u001b[43mvalues\u001b[49m\u001b[43m,\u001b[49m\u001b[43m \u001b[49m\u001b[43mdtype\u001b[49m\u001b[43m,\u001b[49m\u001b[43m \u001b[49m\u001b[43mcopy\u001b[49m\u001b[38;5;241;43m=\u001b[39;49m\u001b[43mcopy\u001b[49m\u001b[43m)\u001b[49m\n\u001b[0;32m   1239\u001b[0m \u001b[38;5;66;03m# in pandas we don't store numpy str dtypes, so convert to object\u001b[39;00m\n\u001b[0;32m   1240\u001b[0m \u001b[38;5;28;01mif\u001b[39;00m \u001b[38;5;28misinstance\u001b[39m(dtype, np\u001b[38;5;241m.\u001b[39mdtype) \u001b[38;5;129;01mand\u001b[39;00m \u001b[38;5;28missubclass\u001b[39m(values\u001b[38;5;241m.\u001b[39mdtype\u001b[38;5;241m.\u001b[39mtype, \u001b[38;5;28mstr\u001b[39m):\n",
      "File \u001b[1;32mC:\\ProgramData\\Anaconda3\\lib\\site-packages\\pandas\\core\\dtypes\\cast.py:1154\u001b[0m, in \u001b[0;36mastype_nansafe\u001b[1;34m(arr, dtype, copy, skipna)\u001b[0m\n\u001b[0;32m   1150\u001b[0m \u001b[38;5;28;01melif\u001b[39;00m is_object_dtype(arr\u001b[38;5;241m.\u001b[39mdtype):\n\u001b[0;32m   1151\u001b[0m \n\u001b[0;32m   1152\u001b[0m     \u001b[38;5;66;03m# work around NumPy brokenness, #1987\u001b[39;00m\n\u001b[0;32m   1153\u001b[0m     \u001b[38;5;28;01mif\u001b[39;00m np\u001b[38;5;241m.\u001b[39missubdtype(dtype\u001b[38;5;241m.\u001b[39mtype, np\u001b[38;5;241m.\u001b[39minteger):\n\u001b[1;32m-> 1154\u001b[0m         \u001b[38;5;28;01mreturn\u001b[39;00m \u001b[43mlib\u001b[49m\u001b[38;5;241;43m.\u001b[39;49m\u001b[43mastype_intsafe\u001b[49m\u001b[43m(\u001b[49m\u001b[43marr\u001b[49m\u001b[43m,\u001b[49m\u001b[43m \u001b[49m\u001b[43mdtype\u001b[49m\u001b[43m)\u001b[49m\n\u001b[0;32m   1156\u001b[0m     \u001b[38;5;66;03m# if we have a datetime/timedelta array of objects\u001b[39;00m\n\u001b[0;32m   1157\u001b[0m     \u001b[38;5;66;03m# then coerce to a proper dtype and recall astype_nansafe\u001b[39;00m\n\u001b[0;32m   1159\u001b[0m     \u001b[38;5;28;01melif\u001b[39;00m is_datetime64_dtype(dtype):\n",
      "File \u001b[1;32mC:\\ProgramData\\Anaconda3\\lib\\site-packages\\pandas\\_libs\\lib.pyx:668\u001b[0m, in \u001b[0;36mpandas._libs.lib.astype_intsafe\u001b[1;34m()\u001b[0m\n",
      "\u001b[1;31mValueError\u001b[0m: invalid literal for int() with base 10: 'PG'"
     ]
    }
   ],
   "source": [
    "movies.Released_Year.dtype\n",
    "movies['Released_Year'] = movies['Released_Year'].astype(int)"
   ]
  },
  {
   "cell_type": "code",
   "execution_count": 34,
   "metadata": {
    "id": "aBbuK0GhUZtK"
   },
   "outputs": [
    {
     "data": {
      "text/plain": [
       "dtype('int32')"
      ]
     },
     "execution_count": 34,
     "metadata": {},
     "output_type": "execute_result"
    }
   ],
   "source": [
    "movies['Runtime'] = movies['Runtime'].astype(int)\n",
    "movies['Runtime'].dtype                                  #converting runtime into int"
   ]
  },
  {
   "cell_type": "markdown",
   "metadata": {
    "id": "jYq9gv3aUl1u"
   },
   "source": [
    "Using seaborn make different types of plots, observe the trend and answer the questions.\n",
    "6. Make a countplot of Movies directed by all directors."
   ]
  },
  {
   "cell_type": "code",
   "execution_count": 6,
   "metadata": {
    "id": "WOYH5X29ViUR"
   },
   "outputs": [
    {
     "name": "stderr",
     "output_type": "stream",
     "text": [
      "C:\\ProgramData\\Anaconda3\\lib\\site-packages\\seaborn\\_decorators.py:36: FutureWarning: Pass the following variable as a keyword arg: x. From version 0.12, the only valid positional argument will be `data`, and passing other arguments without an explicit keyword will result in an error or misinterpretation.\n",
      "  warnings.warn(\n"
     ]
    },
    {
     "data": {
      "text/plain": [
       "<AxesSubplot:xlabel='Director', ylabel='count'>"
      ]
     },
     "execution_count": 6,
     "metadata": {},
     "output_type": "execute_result"
    },
    {
     "data": {
      "image/png": "[encoded data removed]",
      "text/plain": [
       "<Figure size 432x288 with 1 Axes>"
      ]
     },
     "metadata": {
      "needs_background": "light"
     },
     "output_type": "display_data"
    }
   ],
   "source": [
    "\n",
    "sns.countplot(movies.Director)\n"
   ]
  },
  {
   "cell_type": "markdown",
   "metadata": {
    "id": "caUYiLeHVjIf"
   },
   "source": [
    "7. Make a plot to analyze distribution of IMDB rating?"
   ]
  },
  {
   "cell_type": "code",
   "execution_count": 53,
   "metadata": {
    "id": "c12iHvlLV9PR"
   },
   "outputs": [
    {
     "name": "stderr",
     "output_type": "stream",
     "text": [
      "C:\\ProgramData\\Anaconda3\\lib\\site-packages\\seaborn\\distributions.py:2619: FutureWarning: `distplot` is a deprecated function and will be removed in a future version. Please adapt your code to use either `displot` (a figure-level function with similar flexibility) or `histplot` (an axes-level function for histograms).\n",
      "  warnings.warn(msg, FutureWarning)\n"
     ]
    },
    {
     "data": {
      "text/plain": [
       "<AxesSubplot:xlabel='IMDB_Rating', ylabel='Density'>"
      ]
     },
     "execution_count": 53,
     "metadata": {},
     "output_type": "execute_result"
    },
    {
     "data": {
      "image/png": "[encoded data removed]",
      "text/plain": [
       "<Figure size 432x288 with 1 Axes>"
      ]
     },
     "metadata": {
      "needs_background": "light"
     },
     "output_type": "display_data"
    }
   ],
   "source": [
    "sns.distplot(movies.IMDB_Rating)"
   ]
  },
  {
   "cell_type": "markdown",
   "metadata": {
    "id": "dXCoPuYlWISU"
   },
   "source": [
    "8. What type of Genre has the highest IMDB rating?"
   ]
  },
  {
   "cell_type": "code",
   "execution_count": 16,
   "metadata": {
    "id": "0r9cKE7fWjBU"
   },
   "outputs": [
    {
     "data": {
      "text/plain": [
       "Genre\n",
       "Drama                        9.3\n",
       "Crime, Drama                 9.2\n",
       "Action, Crime, Drama         9.0\n",
       "Action, Adventure, Drama     8.9\n",
       "Biography, Drama, History    8.9\n",
       "                            ... \n",
       "Adventure, Comedy, War       7.6\n",
       "Drama, War, Western          7.6\n",
       "Action, Adventure, Crime     7.6\n",
       "Animation, Comedy, Crime     7.6\n",
       "Action, Crime, Mystery       7.6\n",
       "Name: IMDB_Rating, Length: 202, dtype: float64"
      ]
     },
     "execution_count": 16,
     "metadata": {},
     "output_type": "execute_result"
    }
   ],
   "source": [
    "movies.groupby('Genre')['IMDB_Rating'].max().sort_values(ascending=False)\n",
    "#hence the genre drama has the highest IMDB rating"
   ]
  },
  {
   "cell_type": "markdown",
   "metadata": {
    "id": "Ff2urhAhWrHO"
   },
   "source": [
    "9. Name the top 5 movies that have earned highest Meta score. "
   ]
  },
  {
   "cell_type": "code",
   "execution_count": 28,
   "metadata": {
    "id": "lta342_iWxLd"
   },
   "outputs": [
    {
     "name": "stderr",
     "output_type": "stream",
     "text": [
      "C:\\Users\\Akash Sahay\\AppData\\Local\\Temp\\ipykernel_19792\\324638684.py:1: FutureWarning: Dropping invalid columns in DataFrameGroupBy.max is deprecated. In a future version, a TypeError will be raised. Before calling .max, select only columns which should be valid for the function.\n",
      "  movies.groupby('Meta_score').max().sort_values(by='Meta_score', ascending=False).head()\n"
     ]
    },
    {
     "data": {
      "text/html": [
       "<div>\n",
       "<style scoped>\n",
       "    .dataframe tbody tr th:only-of-type {\n",
       "        vertical-align: middle;\n",
       "    }\n",
       "\n",
       "    .dataframe tbody tr th {\n",
       "        vertical-align: top;\n",
       "    }\n",
       "\n",
       "    .dataframe thead th {\n",
       "        text-align: right;\n",
       "    }\n",
       "</style>\n",
       "<table border=\"1\" class=\"dataframe\">\n",
       "  <thead>\n",
       "    <tr style=\"text-align: right;\">\n",
       "      <th></th>\n",
       "      <th>Series_Title</th>\n",
       "      <th>Released_Year</th>\n",
       "      <th>Runtime</th>\n",
       "      <th>Genre</th>\n",
       "      <th>IMDB_Rating</th>\n",
       "      <th>Overview</th>\n",
       "      <th>Director</th>\n",
       "      <th>Star1</th>\n",
       "      <th>Star2</th>\n",
       "      <th>Star3</th>\n",
       "      <th>Star4</th>\n",
       "      <th>No_of_Votes</th>\n",
       "    </tr>\n",
       "    <tr>\n",
       "      <th>Meta_score</th>\n",
       "      <th></th>\n",
       "      <th></th>\n",
       "      <th></th>\n",
       "      <th></th>\n",
       "      <th></th>\n",
       "      <th></th>\n",
       "      <th></th>\n",
       "      <th></th>\n",
       "      <th></th>\n",
       "      <th></th>\n",
       "      <th></th>\n",
       "      <th></th>\n",
       "    </tr>\n",
       "  </thead>\n",
       "  <tbody>\n",
       "    <tr>\n",
       "      <th>100.0</th>\n",
       "      <td>Vertigo</td>\n",
       "      <td>2014</td>\n",
       "      <td>228</td>\n",
       "      <td>Mystery, Thriller</td>\n",
       "      <td>9.2</td>\n",
       "      <td>Two young Swedish children experience the many...</td>\n",
       "      <td>Richard Linklater</td>\n",
       "      <td>Peter O'Toole</td>\n",
       "      <td>Tony Curtis</td>\n",
       "      <td>Wendell Corey</td>\n",
       "      <td>Tom Helmore</td>\n",
       "      <td>1620367</td>\n",
       "    </tr>\n",
       "    <tr>\n",
       "      <th>99.0</th>\n",
       "      <td>Touch of Evil</td>\n",
       "      <td>1958</td>\n",
       "      <td>103</td>\n",
       "      <td>Crime, Drama, Film-Noir</td>\n",
       "      <td>8.5</td>\n",
       "      <td>With the aid of a wealthy erratic tippler, a d...</td>\n",
       "      <td>Stanley Donen</td>\n",
       "      <td>Robert Mitchum</td>\n",
       "      <td>Virginia Cherrill</td>\n",
       "      <td>Lillian Gish</td>\n",
       "      <td>Joseph Calleia</td>\n",
       "      <td>218957</td>\n",
       "    </tr>\n",
       "    <tr>\n",
       "      <th>98.0</th>\n",
       "      <td>The Treasure of the Sierra Madre</td>\n",
       "      <td>2006</td>\n",
       "      <td>207</td>\n",
       "      <td>Mystery, Thriller</td>\n",
       "      <td>8.6</td>\n",
       "      <td>While travelling in continental Europe, a rich...</td>\n",
       "      <td>Joseph L. Mankiewicz</td>\n",
       "      <td>Toshirô Mifune</td>\n",
       "      <td>Walter Huston</td>\n",
       "      <td>Tim Holt</td>\n",
       "      <td>Yukiko Shimazaki</td>\n",
       "      <td>618623</td>\n",
       "    </tr>\n",
       "    <tr>\n",
       "      <th>97.0</th>\n",
       "      <td>The Wild Bunch</td>\n",
       "      <td>2007</td>\n",
       "      <td>238</td>\n",
       "      <td>Horror, Mystery, Thriller</td>\n",
       "      <td>8.5</td>\n",
       "      <td>When Prince John and the Norman Lords begin op...</td>\n",
       "      <td>Victor Fleming</td>\n",
       "      <td>William Keighley</td>\n",
       "      <td>Vladimir Barskiy</td>\n",
       "      <td>Vlad Ivanov</td>\n",
       "      <td>Vivien Leigh</td>\n",
       "      <td>604211</td>\n",
       "    </tr>\n",
       "    <tr>\n",
       "      <th>96.0</th>\n",
       "      <td>The Shop Around the Corner</td>\n",
       "      <td>2019</td>\n",
       "      <td>162</td>\n",
       "      <td>Film-Noir, Mystery</td>\n",
       "      <td>9.0</td>\n",
       "      <td>When a rich woman's ex-husband and a tabloid-t...</td>\n",
       "      <td>Steve McQueen</td>\n",
       "      <td>Yalitza Aparicio</td>\n",
       "      <td>Suzanne Pleshette</td>\n",
       "      <td>Yacef Saadi</td>\n",
       "      <td>Tiny Sandford</td>\n",
       "      <td>769145</td>\n",
       "    </tr>\n",
       "  </tbody>\n",
       "</table>\n",
       "</div>"
      ],
      "text/plain": [
       "                                Series_Title Released_Year  Runtime  \\\n",
       "Meta_score                                                            \n",
       "100.0                                Vertigo          2014      228   \n",
       "99.0                           Touch of Evil          1958      103   \n",
       "98.0        The Treasure of the Sierra Madre          2006      207   \n",
       "97.0                          The Wild Bunch          2007      238   \n",
       "96.0              The Shop Around the Corner          2019      162   \n",
       "\n",
       "                                Genre  IMDB_Rating  \\\n",
       "Meta_score                                           \n",
       "100.0               Mystery, Thriller          9.2   \n",
       "99.0          Crime, Drama, Film-Noir          8.5   \n",
       "98.0                Mystery, Thriller          8.6   \n",
       "97.0        Horror, Mystery, Thriller          8.5   \n",
       "96.0               Film-Noir, Mystery          9.0   \n",
       "\n",
       "                                                     Overview  \\\n",
       "Meta_score                                                      \n",
       "100.0       Two young Swedish children experience the many...   \n",
       "99.0        With the aid of a wealthy erratic tippler, a d...   \n",
       "98.0        While travelling in continental Europe, a rich...   \n",
       "97.0        When Prince John and the Norman Lords begin op...   \n",
       "96.0        When a rich woman's ex-husband and a tabloid-t...   \n",
       "\n",
       "                        Director             Star1              Star2  \\\n",
       "Meta_score                                                              \n",
       "100.0          Richard Linklater     Peter O'Toole        Tony Curtis   \n",
       "99.0               Stanley Donen    Robert Mitchum  Virginia Cherrill   \n",
       "98.0        Joseph L. Mankiewicz    Toshirô Mifune      Walter Huston   \n",
       "97.0              Victor Fleming  William Keighley   Vladimir Barskiy   \n",
       "96.0               Steve McQueen  Yalitza Aparicio  Suzanne Pleshette   \n",
       "\n",
       "                    Star3             Star4  No_of_Votes  \n",
       "Meta_score                                                \n",
       "100.0       Wendell Corey       Tom Helmore      1620367  \n",
       "99.0         Lillian Gish    Joseph Calleia       218957  \n",
       "98.0             Tim Holt  Yukiko Shimazaki       618623  \n",
       "97.0          Vlad Ivanov      Vivien Leigh       604211  \n",
       "96.0          Yacef Saadi     Tiny Sandford       769145  "
      ]
     },
     "execution_count": 28,
     "metadata": {},
     "output_type": "execute_result"
    }
   ],
   "source": [
    "movies.groupby('Meta_score').max().sort_values(by='Meta_score', ascending=False).head()\n",
    "# here we have the top 5 movies  with the highest Meta score"
   ]
  },
  {
   "cell_type": "markdown",
   "metadata": {
    "id": "FPmZIOiwW5Jo"
   },
   "source": [
    "10. Of which Genre movie has the highest Runtime?"
   ]
  },
  {
   "cell_type": "code",
   "execution_count": 45,
   "metadata": {
    "id": "R5a1FemoXJuo"
   },
   "outputs": [
    {
     "data": {
      "text/plain": [
       "Genre\n",
       "Action, Comedy, Crime          321\n",
       "Drama                          242\n",
       "Drama, History, Romance        238\n",
       "Crime, Drama                   229\n",
       "Adventure, Biography, Drama    228\n",
       "                              ... \n",
       "Animation, Comedy, Fantasy      81\n",
       "Animation, Crime, Mystery       81\n",
       "Fantasy, Horror, Mystery        76\n",
       "Animation, Sci-Fi               72\n",
       "Comedy, Musical, War            69\n",
       "Name: Runtime, Length: 202, dtype: int32"
      ]
     },
     "execution_count": 45,
     "metadata": {},
     "output_type": "execute_result"
    }
   ],
   "source": [
    "#movies['Runtime'].dtype\n",
    "\n",
    "movies.groupby('Genre')['Runtime'].max().sort_values(ascending=False)\n",
    "\n",
    "#so the genre of Action, comedy, crime has the highest runtime of 321 mins"
   ]
  },
  {
   "cell_type": "code",
   "execution_count": null,
   "metadata": {},
   "outputs": [],
   "source": []
  }
 ],
 "metadata": {
  "colab": {
   "provenance": []
  },
  "kernelspec": {
   "display_name": "Python 3 (ipykernel)",
   "language": "python",
   "name": "python3"
  },
  "language_info": {
   "codemirror_mode": {
    "name": "ipython",
    "version": 3
   },
   "file_extension": ".py",
   "mimetype": "text/x-python",
   "name": "python",
   "nbconvert_exporter": "python",
   "pygments_lexer": "ipython3",
   "version": "3.9.12"
  }
 },
 "nbformat": 4,
 "nbformat_minor": 1
}
